{
 "cells": [
  {
   "cell_type": "markdown",
   "metadata": {},
   "source": [
    "# Click Stream Analytics Project_Part I"
   ]
  },
  {
   "cell_type": "markdown",
   "metadata": {},
   "source": [
    "This assignment will analyze the data (HotelClickStream.xls) and interpret the results. This dataset includes clickstream data of online transactions for hotel booking in year 2011. "
   ]
  },
  {
   "cell_type": "code",
   "execution_count": 1,
   "metadata": {},
   "outputs": [],
   "source": [
    "import pandas as pd\n",
    "import numpy as np\n",
    "import matplotlib.pyplot as plt\n",
    "import seaborn as sns\n",
    "from scipy import stats\n",
    "import statsmodels.api as sm\n",
    "%matplotlib inline"
   ]
  },
  {
   "cell_type": "markdown",
   "metadata": {},
   "source": [
    "Load the HotelClickStream dataset into a pandas dataframe names as df"
   ]
  },
  {
   "cell_type": "code",
   "execution_count": 2,
   "metadata": {},
   "outputs": [],
   "source": [
    "df = pd.read_excel(\"HotelClickStream.xls\",delimiter=\",\")"
   ]
  },
  {
   "cell_type": "code",
   "execution_count": 3,
   "metadata": {},
   "outputs": [
    {
     "name": "stdout",
     "output_type": "stream",
     "text": [
      "<class 'pandas.core.frame.DataFrame'>\n",
      "RangeIndex: 3749 entries, 0 to 3748\n",
      "Data columns (total 16 columns):\n",
      "ID                   3749 non-null int64\n",
      "DOMAIN_ID            3749 non-null uint64\n",
      "MACHINE_ID           3749 non-null int64\n",
      "SITE_SESSION_ID      3749 non-null int64\n",
      "TRANS_FREQ           3749 non-null int64\n",
      "DOMAIN_NAME          3749 non-null object\n",
      "DIRECTP_D            3749 non-null int64\n",
      "PROD_NAME            3749 non-null object\n",
      "PROD_QTY             3749 non-null int64\n",
      "PROD_TOTPRICE        3749 non-null float64\n",
      "REF_DOMAIN_NAME      1687 non-null object\n",
      "DURATION             3749 non-null float64\n",
      "PAGES_VIEWED         3749 non-null int64\n",
      "HOUSEHOLD_SIZE       3749 non-null int64\n",
      "CHILDREN_D           3749 non-null int64\n",
      "CONNECTIONSPEED_D    3749 non-null int64\n",
      "dtypes: float64(2), int64(10), object(3), uint64(1)\n",
      "memory usage: 468.7+ KB\n"
     ]
    }
   ],
   "source": [
    "df.info()"
   ]
  },
  {
   "cell_type": "code",
   "execution_count": 4,
   "metadata": {},
   "outputs": [
    {
     "data": {
      "text/plain": [
       "Index(['ID', 'DOMAIN_ID', 'MACHINE_ID', 'SITE_SESSION_ID', 'TRANS_FREQ',\n",
       "       'DOMAIN_NAME', 'DIRECTP_D', 'PROD_NAME', 'PROD_QTY', 'PROD_TOTPRICE',\n",
       "       'REF_DOMAIN_NAME', 'DURATION', 'PAGES_VIEWED', 'HOUSEHOLD_SIZE',\n",
       "       'CHILDREN_D', 'CONNECTIONSPEED_D'],\n",
       "      dtype='object')"
      ]
     },
     "execution_count": 4,
     "metadata": {},
     "output_type": "execute_result"
    }
   ],
   "source": [
    "df.columns"
   ]
  },
  {
   "cell_type": "code",
   "execution_count": 5,
   "metadata": {},
   "outputs": [
    {
     "data": {
      "text/html": [
       "<div>\n",
       "<style scoped>\n",
       "    .dataframe tbody tr th:only-of-type {\n",
       "        vertical-align: middle;\n",
       "    }\n",
       "\n",
       "    .dataframe tbody tr th {\n",
       "        vertical-align: top;\n",
       "    }\n",
       "\n",
       "    .dataframe thead th {\n",
       "        text-align: right;\n",
       "    }\n",
       "</style>\n",
       "<table border=\"1\" class=\"dataframe\">\n",
       "  <thead>\n",
       "    <tr style=\"text-align: right;\">\n",
       "      <th></th>\n",
       "      <th>ID</th>\n",
       "      <th>DOMAIN_ID</th>\n",
       "      <th>MACHINE_ID</th>\n",
       "      <th>SITE_SESSION_ID</th>\n",
       "      <th>TRANS_FREQ</th>\n",
       "      <th>DOMAIN_NAME</th>\n",
       "      <th>DIRECTP_D</th>\n",
       "      <th>PROD_NAME</th>\n",
       "      <th>PROD_QTY</th>\n",
       "      <th>PROD_TOTPRICE</th>\n",
       "      <th>REF_DOMAIN_NAME</th>\n",
       "      <th>DURATION</th>\n",
       "      <th>PAGES_VIEWED</th>\n",
       "      <th>HOUSEHOLD_SIZE</th>\n",
       "      <th>CHILDREN_D</th>\n",
       "      <th>CONNECTIONSPEED_D</th>\n",
       "    </tr>\n",
       "  </thead>\n",
       "  <tbody>\n",
       "    <tr>\n",
       "      <th>0</th>\n",
       "      <td>1525</td>\n",
       "      <td>13877604970862366012</td>\n",
       "      <td>85643811</td>\n",
       "      <td>4447900536932</td>\n",
       "      <td>1</td>\n",
       "      <td>ichotelsgroup.com</td>\n",
       "      <td>1</td>\n",
       "      <td>FT. LAUDERDALE AIRPORT/CRUISE - CROWNE PLAZA H...</td>\n",
       "      <td>32</td>\n",
       "      <td>2847.039993</td>\n",
       "      <td>NaN</td>\n",
       "      <td>23.328125</td>\n",
       "      <td>13</td>\n",
       "      <td>6</td>\n",
       "      <td>1</td>\n",
       "      <td>1</td>\n",
       "    </tr>\n",
       "    <tr>\n",
       "      <th>1</th>\n",
       "      <td>402</td>\n",
       "      <td>7101213156062330967</td>\n",
       "      <td>76460408</td>\n",
       "      <td>71774258860245</td>\n",
       "      <td>1</td>\n",
       "      <td>orbitz.com</td>\n",
       "      <td>0</td>\n",
       "      <td>WALT DISNEY WORLD MAGIC YOUR WAY TICKETS! N/A</td>\n",
       "      <td>1</td>\n",
       "      <td>2406.939995</td>\n",
       "      <td>yahoo.com</td>\n",
       "      <td>47.109375</td>\n",
       "      <td>17</td>\n",
       "      <td>2</td>\n",
       "      <td>1</td>\n",
       "      <td>1</td>\n",
       "    </tr>\n",
       "    <tr>\n",
       "      <th>2</th>\n",
       "      <td>233</td>\n",
       "      <td>7772350535129410931</td>\n",
       "      <td>74286590</td>\n",
       "      <td>3825866182640</td>\n",
       "      <td>1</td>\n",
       "      <td>hyatt.com</td>\n",
       "      <td>1</td>\n",
       "      <td>HYATT REGENCY MAUI RESORT  SPA FRI 11 MAR 2011...</td>\n",
       "      <td>5</td>\n",
       "      <td>2168.000000</td>\n",
       "      <td>google.com</td>\n",
       "      <td>20.058594</td>\n",
       "      <td>19</td>\n",
       "      <td>1</td>\n",
       "      <td>0</td>\n",
       "      <td>1</td>\n",
       "    </tr>\n",
       "    <tr>\n",
       "      <th>3</th>\n",
       "      <td>2362</td>\n",
       "      <td>9530952911301729568</td>\n",
       "      <td>90015830</td>\n",
       "      <td>70000481538306</td>\n",
       "      <td>1</td>\n",
       "      <td>expedia.com</td>\n",
       "      <td>0</td>\n",
       "      <td>HOTEL - THE ADDRESS DUBAI MARINA ~SAT DEC/10/2...</td>\n",
       "      <td>5</td>\n",
       "      <td>1958.699997</td>\n",
       "      <td>NaN</td>\n",
       "      <td>47.546875</td>\n",
       "      <td>39</td>\n",
       "      <td>1</td>\n",
       "      <td>0</td>\n",
       "      <td>1</td>\n",
       "    </tr>\n",
       "    <tr>\n",
       "      <th>4</th>\n",
       "      <td>2738</td>\n",
       "      <td>4024709573451844450</td>\n",
       "      <td>91435029</td>\n",
       "      <td>5158448795791</td>\n",
       "      <td>2</td>\n",
       "      <td>starwoodhotels.com</td>\n",
       "      <td>1</td>\n",
       "      <td>HOTEL-W NEW YORK - TIMES SQUARE 08/18~08/21</td>\n",
       "      <td>3</td>\n",
       "      <td>1797.000000</td>\n",
       "      <td>whotels.com</td>\n",
       "      <td>14.599609</td>\n",
       "      <td>19</td>\n",
       "      <td>1</td>\n",
       "      <td>0</td>\n",
       "      <td>1</td>\n",
       "    </tr>\n",
       "  </tbody>\n",
       "</table>\n",
       "</div>"
      ],
      "text/plain": [
       "     ID             DOMAIN_ID  MACHINE_ID  SITE_SESSION_ID  TRANS_FREQ  \\\n",
       "0  1525  13877604970862366012    85643811    4447900536932           1   \n",
       "1   402   7101213156062330967    76460408   71774258860245           1   \n",
       "2   233   7772350535129410931    74286590    3825866182640           1   \n",
       "3  2362   9530952911301729568    90015830   70000481538306           1   \n",
       "4  2738   4024709573451844450    91435029    5158448795791           2   \n",
       "\n",
       "          DOMAIN_NAME  DIRECTP_D  \\\n",
       "0   ichotelsgroup.com          1   \n",
       "1          orbitz.com          0   \n",
       "2           hyatt.com          1   \n",
       "3         expedia.com          0   \n",
       "4  starwoodhotels.com          1   \n",
       "\n",
       "                                           PROD_NAME  PROD_QTY  PROD_TOTPRICE  \\\n",
       "0  FT. LAUDERDALE AIRPORT/CRUISE - CROWNE PLAZA H...        32    2847.039993   \n",
       "1      WALT DISNEY WORLD MAGIC YOUR WAY TICKETS! N/A         1    2406.939995   \n",
       "2  HYATT REGENCY MAUI RESORT  SPA FRI 11 MAR 2011...         5    2168.000000   \n",
       "3  HOTEL - THE ADDRESS DUBAI MARINA ~SAT DEC/10/2...         5    1958.699997   \n",
       "4        HOTEL-W NEW YORK - TIMES SQUARE 08/18~08/21         3    1797.000000   \n",
       "\n",
       "  REF_DOMAIN_NAME   DURATION  PAGES_VIEWED  HOUSEHOLD_SIZE  CHILDREN_D  \\\n",
       "0             NaN  23.328125            13               6           1   \n",
       "1       yahoo.com  47.109375            17               2           1   \n",
       "2      google.com  20.058594            19               1           0   \n",
       "3             NaN  47.546875            39               1           0   \n",
       "4     whotels.com  14.599609            19               1           0   \n",
       "\n",
       "   CONNECTIONSPEED_D  \n",
       "0                  1  \n",
       "1                  1  \n",
       "2                  1  \n",
       "3                  1  \n",
       "4                  1  "
      ]
     },
     "execution_count": 5,
     "metadata": {},
     "output_type": "execute_result"
    }
   ],
   "source": [
    "df.head(5)"
   ]
  },
  {
   "cell_type": "markdown",
   "metadata": {},
   "source": [
    "# Question 1\n",
    "Please first create the following 2 additional variables into your data\n",
    "\n",
    "   1) REF_D (create a dummy variable indicating whether the transaction was referenced from other website, if not, the final booking website was directly accessed. If no information provided for the variable REF_DOMAIN_NAME, REF_D = 0; otherwise REF_D = 1)\n"
   ]
  },
  {
   "cell_type": "code",
   "execution_count": 6,
   "metadata": {},
   "outputs": [],
   "source": [
    "df.loc[pd.isna(df.REF_DOMAIN_NAME),'REF_D']=0\n",
    "df.loc[pd.notna(df.REF_DOMAIN_NAME),'REF_D']=1"
   ]
  },
  {
   "cell_type": "code",
   "execution_count": 7,
   "metadata": {
    "scrolled": false
   },
   "outputs": [
    {
     "data": {
      "text/html": [
       "<div>\n",
       "<style scoped>\n",
       "    .dataframe tbody tr th:only-of-type {\n",
       "        vertical-align: middle;\n",
       "    }\n",
       "\n",
       "    .dataframe tbody tr th {\n",
       "        vertical-align: top;\n",
       "    }\n",
       "\n",
       "    .dataframe thead th {\n",
       "        text-align: right;\n",
       "    }\n",
       "</style>\n",
       "<table border=\"1\" class=\"dataframe\">\n",
       "  <thead>\n",
       "    <tr style=\"text-align: right;\">\n",
       "      <th></th>\n",
       "      <th>ID</th>\n",
       "      <th>DOMAIN_ID</th>\n",
       "      <th>MACHINE_ID</th>\n",
       "      <th>SITE_SESSION_ID</th>\n",
       "      <th>TRANS_FREQ</th>\n",
       "      <th>DOMAIN_NAME</th>\n",
       "      <th>DIRECTP_D</th>\n",
       "      <th>PROD_NAME</th>\n",
       "      <th>PROD_QTY</th>\n",
       "      <th>PROD_TOTPRICE</th>\n",
       "      <th>REF_DOMAIN_NAME</th>\n",
       "      <th>DURATION</th>\n",
       "      <th>PAGES_VIEWED</th>\n",
       "      <th>HOUSEHOLD_SIZE</th>\n",
       "      <th>CHILDREN_D</th>\n",
       "      <th>CONNECTIONSPEED_D</th>\n",
       "      <th>REF_D</th>\n",
       "    </tr>\n",
       "  </thead>\n",
       "  <tbody>\n",
       "    <tr>\n",
       "      <th>0</th>\n",
       "      <td>1525</td>\n",
       "      <td>13877604970862366012</td>\n",
       "      <td>85643811</td>\n",
       "      <td>4447900536932</td>\n",
       "      <td>1</td>\n",
       "      <td>ichotelsgroup.com</td>\n",
       "      <td>1</td>\n",
       "      <td>FT. LAUDERDALE AIRPORT/CRUISE - CROWNE PLAZA H...</td>\n",
       "      <td>32</td>\n",
       "      <td>2847.039993</td>\n",
       "      <td>NaN</td>\n",
       "      <td>23.328125</td>\n",
       "      <td>13</td>\n",
       "      <td>6</td>\n",
       "      <td>1</td>\n",
       "      <td>1</td>\n",
       "      <td>0.0</td>\n",
       "    </tr>\n",
       "    <tr>\n",
       "      <th>1</th>\n",
       "      <td>402</td>\n",
       "      <td>7101213156062330967</td>\n",
       "      <td>76460408</td>\n",
       "      <td>71774258860245</td>\n",
       "      <td>1</td>\n",
       "      <td>orbitz.com</td>\n",
       "      <td>0</td>\n",
       "      <td>WALT DISNEY WORLD MAGIC YOUR WAY TICKETS! N/A</td>\n",
       "      <td>1</td>\n",
       "      <td>2406.939995</td>\n",
       "      <td>yahoo.com</td>\n",
       "      <td>47.109375</td>\n",
       "      <td>17</td>\n",
       "      <td>2</td>\n",
       "      <td>1</td>\n",
       "      <td>1</td>\n",
       "      <td>1.0</td>\n",
       "    </tr>\n",
       "    <tr>\n",
       "      <th>2</th>\n",
       "      <td>233</td>\n",
       "      <td>7772350535129410931</td>\n",
       "      <td>74286590</td>\n",
       "      <td>3825866182640</td>\n",
       "      <td>1</td>\n",
       "      <td>hyatt.com</td>\n",
       "      <td>1</td>\n",
       "      <td>HYATT REGENCY MAUI RESORT  SPA FRI 11 MAR 2011...</td>\n",
       "      <td>5</td>\n",
       "      <td>2168.000000</td>\n",
       "      <td>google.com</td>\n",
       "      <td>20.058594</td>\n",
       "      <td>19</td>\n",
       "      <td>1</td>\n",
       "      <td>0</td>\n",
       "      <td>1</td>\n",
       "      <td>1.0</td>\n",
       "    </tr>\n",
       "    <tr>\n",
       "      <th>3</th>\n",
       "      <td>2362</td>\n",
       "      <td>9530952911301729568</td>\n",
       "      <td>90015830</td>\n",
       "      <td>70000481538306</td>\n",
       "      <td>1</td>\n",
       "      <td>expedia.com</td>\n",
       "      <td>0</td>\n",
       "      <td>HOTEL - THE ADDRESS DUBAI MARINA ~SAT DEC/10/2...</td>\n",
       "      <td>5</td>\n",
       "      <td>1958.699997</td>\n",
       "      <td>NaN</td>\n",
       "      <td>47.546875</td>\n",
       "      <td>39</td>\n",
       "      <td>1</td>\n",
       "      <td>0</td>\n",
       "      <td>1</td>\n",
       "      <td>0.0</td>\n",
       "    </tr>\n",
       "    <tr>\n",
       "      <th>4</th>\n",
       "      <td>2738</td>\n",
       "      <td>4024709573451844450</td>\n",
       "      <td>91435029</td>\n",
       "      <td>5158448795791</td>\n",
       "      <td>2</td>\n",
       "      <td>starwoodhotels.com</td>\n",
       "      <td>1</td>\n",
       "      <td>HOTEL-W NEW YORK - TIMES SQUARE 08/18~08/21</td>\n",
       "      <td>3</td>\n",
       "      <td>1797.000000</td>\n",
       "      <td>whotels.com</td>\n",
       "      <td>14.599609</td>\n",
       "      <td>19</td>\n",
       "      <td>1</td>\n",
       "      <td>0</td>\n",
       "      <td>1</td>\n",
       "      <td>1.0</td>\n",
       "    </tr>\n",
       "  </tbody>\n",
       "</table>\n",
       "</div>"
      ],
      "text/plain": [
       "     ID             DOMAIN_ID  MACHINE_ID  SITE_SESSION_ID  TRANS_FREQ  \\\n",
       "0  1525  13877604970862366012    85643811    4447900536932           1   \n",
       "1   402   7101213156062330967    76460408   71774258860245           1   \n",
       "2   233   7772350535129410931    74286590    3825866182640           1   \n",
       "3  2362   9530952911301729568    90015830   70000481538306           1   \n",
       "4  2738   4024709573451844450    91435029    5158448795791           2   \n",
       "\n",
       "          DOMAIN_NAME  DIRECTP_D  \\\n",
       "0   ichotelsgroup.com          1   \n",
       "1          orbitz.com          0   \n",
       "2           hyatt.com          1   \n",
       "3         expedia.com          0   \n",
       "4  starwoodhotels.com          1   \n",
       "\n",
       "                                           PROD_NAME  PROD_QTY  PROD_TOTPRICE  \\\n",
       "0  FT. LAUDERDALE AIRPORT/CRUISE - CROWNE PLAZA H...        32    2847.039993   \n",
       "1      WALT DISNEY WORLD MAGIC YOUR WAY TICKETS! N/A         1    2406.939995   \n",
       "2  HYATT REGENCY MAUI RESORT  SPA FRI 11 MAR 2011...         5    2168.000000   \n",
       "3  HOTEL - THE ADDRESS DUBAI MARINA ~SAT DEC/10/2...         5    1958.699997   \n",
       "4        HOTEL-W NEW YORK - TIMES SQUARE 08/18~08/21         3    1797.000000   \n",
       "\n",
       "  REF_DOMAIN_NAME   DURATION  PAGES_VIEWED  HOUSEHOLD_SIZE  CHILDREN_D  \\\n",
       "0             NaN  23.328125            13               6           1   \n",
       "1       yahoo.com  47.109375            17               2           1   \n",
       "2      google.com  20.058594            19               1           0   \n",
       "3             NaN  47.546875            39               1           0   \n",
       "4     whotels.com  14.599609            19               1           0   \n",
       "\n",
       "   CONNECTIONSPEED_D  REF_D  \n",
       "0                  1    0.0  \n",
       "1                  1    1.0  \n",
       "2                  1    1.0  \n",
       "3                  1    0.0  \n",
       "4                  1    1.0  "
      ]
     },
     "execution_count": 7,
     "metadata": {},
     "output_type": "execute_result"
    }
   ],
   "source": [
    "df.head(5)"
   ]
  },
  {
   "cell_type": "markdown",
   "metadata": {},
   "source": [
    "<br>\n",
    "<br>\n",
    "2) LOG_PRICE (take the log transformation of the variable PROD_TOTPRICE )"
   ]
  },
  {
   "cell_type": "code",
   "execution_count": 8,
   "metadata": {},
   "outputs": [
    {
     "data": {
      "text/plain": [
       "0.0"
      ]
     },
     "execution_count": 8,
     "metadata": {},
     "output_type": "execute_result"
    }
   ],
   "source": [
    "df.PROD_TOTPRICE.min()"
   ]
  },
  {
   "cell_type": "code",
   "execution_count": 9,
   "metadata": {},
   "outputs": [],
   "source": [
    "df['LOG_PRICE']=np.log1p(df.PROD_TOTPRICE)"
   ]
  },
  {
   "cell_type": "code",
   "execution_count": 10,
   "metadata": {},
   "outputs": [
    {
     "data": {
      "text/plain": [
       "Index(['ID', 'DOMAIN_ID', 'MACHINE_ID', 'SITE_SESSION_ID', 'TRANS_FREQ',\n",
       "       'DOMAIN_NAME', 'DIRECTP_D', 'PROD_NAME', 'PROD_QTY', 'PROD_TOTPRICE',\n",
       "       'REF_DOMAIN_NAME', 'DURATION', 'PAGES_VIEWED', 'HOUSEHOLD_SIZE',\n",
       "       'CHILDREN_D', 'CONNECTIONSPEED_D', 'REF_D', 'LOG_PRICE'],\n",
       "      dtype='object')"
      ]
     },
     "execution_count": 10,
     "metadata": {},
     "output_type": "execute_result"
    }
   ],
   "source": [
    "df.columns"
   ]
  },
  {
   "cell_type": "code",
   "execution_count": 11,
   "metadata": {},
   "outputs": [
    {
     "data": {
      "text/html": [
       "<div>\n",
       "<style scoped>\n",
       "    .dataframe tbody tr th:only-of-type {\n",
       "        vertical-align: middle;\n",
       "    }\n",
       "\n",
       "    .dataframe tbody tr th {\n",
       "        vertical-align: top;\n",
       "    }\n",
       "\n",
       "    .dataframe thead th {\n",
       "        text-align: right;\n",
       "    }\n",
       "</style>\n",
       "<table border=\"1\" class=\"dataframe\">\n",
       "  <thead>\n",
       "    <tr style=\"text-align: right;\">\n",
       "      <th></th>\n",
       "      <th>ID</th>\n",
       "      <th>DOMAIN_ID</th>\n",
       "      <th>MACHINE_ID</th>\n",
       "      <th>SITE_SESSION_ID</th>\n",
       "      <th>TRANS_FREQ</th>\n",
       "      <th>DOMAIN_NAME</th>\n",
       "      <th>DIRECTP_D</th>\n",
       "      <th>PROD_NAME</th>\n",
       "      <th>PROD_QTY</th>\n",
       "      <th>PROD_TOTPRICE</th>\n",
       "      <th>REF_DOMAIN_NAME</th>\n",
       "      <th>DURATION</th>\n",
       "      <th>PAGES_VIEWED</th>\n",
       "      <th>HOUSEHOLD_SIZE</th>\n",
       "      <th>CHILDREN_D</th>\n",
       "      <th>CONNECTIONSPEED_D</th>\n",
       "      <th>REF_D</th>\n",
       "      <th>LOG_PRICE</th>\n",
       "    </tr>\n",
       "  </thead>\n",
       "  <tbody>\n",
       "    <tr>\n",
       "      <th>0</th>\n",
       "      <td>1525</td>\n",
       "      <td>13877604970862366012</td>\n",
       "      <td>85643811</td>\n",
       "      <td>4447900536932</td>\n",
       "      <td>1</td>\n",
       "      <td>ichotelsgroup.com</td>\n",
       "      <td>1</td>\n",
       "      <td>FT. LAUDERDALE AIRPORT/CRUISE - CROWNE PLAZA H...</td>\n",
       "      <td>32</td>\n",
       "      <td>2847.039993</td>\n",
       "      <td>NaN</td>\n",
       "      <td>23.328125</td>\n",
       "      <td>13</td>\n",
       "      <td>6</td>\n",
       "      <td>1</td>\n",
       "      <td>1</td>\n",
       "      <td>0.0</td>\n",
       "      <td>7.954386</td>\n",
       "    </tr>\n",
       "    <tr>\n",
       "      <th>1</th>\n",
       "      <td>402</td>\n",
       "      <td>7101213156062330967</td>\n",
       "      <td>76460408</td>\n",
       "      <td>71774258860245</td>\n",
       "      <td>1</td>\n",
       "      <td>orbitz.com</td>\n",
       "      <td>0</td>\n",
       "      <td>WALT DISNEY WORLD MAGIC YOUR WAY TICKETS! N/A</td>\n",
       "      <td>1</td>\n",
       "      <td>2406.939995</td>\n",
       "      <td>yahoo.com</td>\n",
       "      <td>47.109375</td>\n",
       "      <td>17</td>\n",
       "      <td>2</td>\n",
       "      <td>1</td>\n",
       "      <td>1</td>\n",
       "      <td>1.0</td>\n",
       "      <td>7.786527</td>\n",
       "    </tr>\n",
       "    <tr>\n",
       "      <th>2</th>\n",
       "      <td>233</td>\n",
       "      <td>7772350535129410931</td>\n",
       "      <td>74286590</td>\n",
       "      <td>3825866182640</td>\n",
       "      <td>1</td>\n",
       "      <td>hyatt.com</td>\n",
       "      <td>1</td>\n",
       "      <td>HYATT REGENCY MAUI RESORT  SPA FRI 11 MAR 2011...</td>\n",
       "      <td>5</td>\n",
       "      <td>2168.000000</td>\n",
       "      <td>google.com</td>\n",
       "      <td>20.058594</td>\n",
       "      <td>19</td>\n",
       "      <td>1</td>\n",
       "      <td>0</td>\n",
       "      <td>1</td>\n",
       "      <td>1.0</td>\n",
       "      <td>7.682022</td>\n",
       "    </tr>\n",
       "    <tr>\n",
       "      <th>3</th>\n",
       "      <td>2362</td>\n",
       "      <td>9530952911301729568</td>\n",
       "      <td>90015830</td>\n",
       "      <td>70000481538306</td>\n",
       "      <td>1</td>\n",
       "      <td>expedia.com</td>\n",
       "      <td>0</td>\n",
       "      <td>HOTEL - THE ADDRESS DUBAI MARINA ~SAT DEC/10/2...</td>\n",
       "      <td>5</td>\n",
       "      <td>1958.699997</td>\n",
       "      <td>NaN</td>\n",
       "      <td>47.546875</td>\n",
       "      <td>39</td>\n",
       "      <td>1</td>\n",
       "      <td>0</td>\n",
       "      <td>1</td>\n",
       "      <td>0.0</td>\n",
       "      <td>7.580547</td>\n",
       "    </tr>\n",
       "    <tr>\n",
       "      <th>4</th>\n",
       "      <td>2738</td>\n",
       "      <td>4024709573451844450</td>\n",
       "      <td>91435029</td>\n",
       "      <td>5158448795791</td>\n",
       "      <td>2</td>\n",
       "      <td>starwoodhotels.com</td>\n",
       "      <td>1</td>\n",
       "      <td>HOTEL-W NEW YORK - TIMES SQUARE 08/18~08/21</td>\n",
       "      <td>3</td>\n",
       "      <td>1797.000000</td>\n",
       "      <td>whotels.com</td>\n",
       "      <td>14.599609</td>\n",
       "      <td>19</td>\n",
       "      <td>1</td>\n",
       "      <td>0</td>\n",
       "      <td>1</td>\n",
       "      <td>1.0</td>\n",
       "      <td>7.494430</td>\n",
       "    </tr>\n",
       "  </tbody>\n",
       "</table>\n",
       "</div>"
      ],
      "text/plain": [
       "     ID             DOMAIN_ID  MACHINE_ID  SITE_SESSION_ID  TRANS_FREQ  \\\n",
       "0  1525  13877604970862366012    85643811    4447900536932           1   \n",
       "1   402   7101213156062330967    76460408   71774258860245           1   \n",
       "2   233   7772350535129410931    74286590    3825866182640           1   \n",
       "3  2362   9530952911301729568    90015830   70000481538306           1   \n",
       "4  2738   4024709573451844450    91435029    5158448795791           2   \n",
       "\n",
       "          DOMAIN_NAME  DIRECTP_D  \\\n",
       "0   ichotelsgroup.com          1   \n",
       "1          orbitz.com          0   \n",
       "2           hyatt.com          1   \n",
       "3         expedia.com          0   \n",
       "4  starwoodhotels.com          1   \n",
       "\n",
       "                                           PROD_NAME  PROD_QTY  PROD_TOTPRICE  \\\n",
       "0  FT. LAUDERDALE AIRPORT/CRUISE - CROWNE PLAZA H...        32    2847.039993   \n",
       "1      WALT DISNEY WORLD MAGIC YOUR WAY TICKETS! N/A         1    2406.939995   \n",
       "2  HYATT REGENCY MAUI RESORT  SPA FRI 11 MAR 2011...         5    2168.000000   \n",
       "3  HOTEL - THE ADDRESS DUBAI MARINA ~SAT DEC/10/2...         5    1958.699997   \n",
       "4        HOTEL-W NEW YORK - TIMES SQUARE 08/18~08/21         3    1797.000000   \n",
       "\n",
       "  REF_DOMAIN_NAME   DURATION  PAGES_VIEWED  HOUSEHOLD_SIZE  CHILDREN_D  \\\n",
       "0             NaN  23.328125            13               6           1   \n",
       "1       yahoo.com  47.109375            17               2           1   \n",
       "2      google.com  20.058594            19               1           0   \n",
       "3             NaN  47.546875            39               1           0   \n",
       "4     whotels.com  14.599609            19               1           0   \n",
       "\n",
       "   CONNECTIONSPEED_D  REF_D  LOG_PRICE  \n",
       "0                  1    0.0   7.954386  \n",
       "1                  1    1.0   7.786527  \n",
       "2                  1    1.0   7.682022  \n",
       "3                  1    0.0   7.580547  \n",
       "4                  1    1.0   7.494430  "
      ]
     },
     "execution_count": 11,
     "metadata": {},
     "output_type": "execute_result"
    }
   ],
   "source": [
    "df.head(5)"
   ]
  },
  {
   "cell_type": "markdown",
   "metadata": {},
   "source": [
    "# Question a) \n",
    "Please provide a summary table showing the top 10 domain names (DOMAIN_NAME) that generated the most volume of transactions the report should look like the following Table. Please summarize briefly your observations from the results"
   ]
  },
  {
   "cell_type": "code",
   "execution_count": 12,
   "metadata": {},
   "outputs": [
    {
     "data": {
      "text/plain": [
       "DOMAIN_NAME\n",
       "marriott.com        524\n",
       "hilton.com          438\n",
       "hotels.com          400\n",
       "expedia.com         380\n",
       "priceline.com       309\n",
       "choicehotels.com    297\n",
       "jetblue.com         229\n",
       "hotwire.com         217\n",
       "bestwestern.com     120\n",
       "orbitz.com          109\n",
       "Name: TRANS_FREQ, dtype: int64"
      ]
     },
     "execution_count": 12,
     "metadata": {},
     "output_type": "execute_result"
    }
   ],
   "source": [
    "df.groupby(['DOMAIN_NAME'])['TRANS_FREQ'].count().nlargest(10)\n"
   ]
  },
  {
   "cell_type": "markdown",
   "metadata": {},
   "source": [
    "------------------------Result Summary------------------ \n",
    "<br>\n",
    "The  observation table shows that 'marriott.com' generated the most volume with 524 transactions, while orbitz.com ranks at 10 with 109 transactions.\n",
    "<br>\n",
    "<br>\n"
   ]
  },
  {
   "cell_type": "markdown",
   "metadata": {},
   "source": [
    "# Question b) \n",
    "Please provide a summary table showing the top 10 reference domain names (REF_DOMAIN_NAME) that generated the most volume of transactions. The report should look like the following Table. Please summarize briefly your observations from the results."
   ]
  },
  {
   "cell_type": "code",
   "execution_count": 13,
   "metadata": {},
   "outputs": [
    {
     "data": {
      "text/plain": [
       "REF_DOMAIN_NAME\n",
       "google.com           620\n",
       "yahoo.com            222\n",
       "bing.com             129\n",
       "aol.com               53\n",
       "comfortinn.com        48\n",
       "jetblue.com           43\n",
       "qualityinn.com        29\n",
       "comfortsuites.com     22\n",
       "kayak.com             20\n",
       "mywebsearch.com       17\n",
       "Name: TRANS_FREQ, dtype: int64"
      ]
     },
     "execution_count": 13,
     "metadata": {},
     "output_type": "execute_result"
    }
   ],
   "source": [
    "df.groupby(['REF_DOMAIN_NAME'])['TRANS_FREQ'].count().nlargest(10)"
   ]
  },
  {
   "cell_type": "markdown",
   "metadata": {},
   "source": [
    "------------------------Result Summary------------------ \n",
    "<br>\n",
    "The observation table shows that 'google.com' generated the most volume with 620 transactions, while 'mywebsearch.com' ranks at 10 with 17 transactions. \n",
    "<br>\n",
    "<br>"
   ]
  },
  {
   "cell_type": "markdown",
   "metadata": {},
   "source": [
    "# Question c) \n",
    "Please provide summary statistics (N, Max, Min, Mean, and Std.) for variables: DIRECTP_D; REF_D; DURATION; PAGES_VIEWED; LOG_PRICE; and TRANS_FREQ. Please report your summary statistics table and provide short descriptions (a few bullet points) of your observation"
   ]
  },
  {
   "cell_type": "code",
   "execution_count": 14,
   "metadata": {
    "scrolled": true
   },
   "outputs": [
    {
     "data": {
      "text/html": [
       "<div>\n",
       "<style scoped>\n",
       "    .dataframe tbody tr th:only-of-type {\n",
       "        vertical-align: middle;\n",
       "    }\n",
       "\n",
       "    .dataframe tbody tr th {\n",
       "        vertical-align: top;\n",
       "    }\n",
       "\n",
       "    .dataframe thead th {\n",
       "        text-align: right;\n",
       "    }\n",
       "</style>\n",
       "<table border=\"1\" class=\"dataframe\">\n",
       "  <thead>\n",
       "    <tr style=\"text-align: right;\">\n",
       "      <th></th>\n",
       "      <th>DIRECTP_D</th>\n",
       "      <th>REF_D</th>\n",
       "      <th>DURATION</th>\n",
       "      <th>PAGES_VIEWED</th>\n",
       "      <th>LOG_PRICE</th>\n",
       "      <th>TRANS_FREQ</th>\n",
       "    </tr>\n",
       "  </thead>\n",
       "  <tbody>\n",
       "    <tr>\n",
       "      <th>count</th>\n",
       "      <td>3749.000000</td>\n",
       "      <td>3749.000000</td>\n",
       "      <td>3749.000000</td>\n",
       "      <td>3749.000000</td>\n",
       "      <td>3749.000000</td>\n",
       "      <td>3749.000000</td>\n",
       "    </tr>\n",
       "    <tr>\n",
       "      <th>max</th>\n",
       "      <td>1.000000</td>\n",
       "      <td>1.000000</td>\n",
       "      <td>227.343750</td>\n",
       "      <td>141.000000</td>\n",
       "      <td>7.954386</td>\n",
       "      <td>30.000000</td>\n",
       "    </tr>\n",
       "    <tr>\n",
       "      <th>min</th>\n",
       "      <td>0.000000</td>\n",
       "      <td>0.000000</td>\n",
       "      <td>0.029999</td>\n",
       "      <td>1.000000</td>\n",
       "      <td>0.000000</td>\n",
       "      <td>1.000000</td>\n",
       "    </tr>\n",
       "    <tr>\n",
       "      <th>mean</th>\n",
       "      <td>0.481462</td>\n",
       "      <td>0.449987</td>\n",
       "      <td>25.317508</td>\n",
       "      <td>18.331288</td>\n",
       "      <td>4.439926</td>\n",
       "      <td>2.981328</td>\n",
       "    </tr>\n",
       "    <tr>\n",
       "      <th>std</th>\n",
       "      <td>0.499723</td>\n",
       "      <td>0.497559</td>\n",
       "      <td>22.806497</td>\n",
       "      <td>16.636523</td>\n",
       "      <td>1.615478</td>\n",
       "      <td>4.120927</td>\n",
       "    </tr>\n",
       "  </tbody>\n",
       "</table>\n",
       "</div>"
      ],
      "text/plain": [
       "         DIRECTP_D        REF_D     DURATION  PAGES_VIEWED    LOG_PRICE  \\\n",
       "count  3749.000000  3749.000000  3749.000000   3749.000000  3749.000000   \n",
       "max       1.000000     1.000000   227.343750    141.000000     7.954386   \n",
       "min       0.000000     0.000000     0.029999      1.000000     0.000000   \n",
       "mean      0.481462     0.449987    25.317508     18.331288     4.439926   \n",
       "std       0.499723     0.497559    22.806497     16.636523     1.615478   \n",
       "\n",
       "        TRANS_FREQ  \n",
       "count  3749.000000  \n",
       "max      30.000000  \n",
       "min       1.000000  \n",
       "mean      2.981328  \n",
       "std       4.120927  "
      ]
     },
     "execution_count": 14,
     "metadata": {},
     "output_type": "execute_result"
    }
   ],
   "source": [
    "df[['DIRECTP_D','REF_D','DURATION', 'PAGES_VIEWED', 'LOG_PRICE','TRANS_FREQ']].agg(['count','max','min','mean','std'])"
   ]
  },
  {
   "cell_type": "markdown",
   "metadata": {},
   "source": [
    "------------------------Result Summary------------------\n",
    "<br>\n",
    "•\tThe count indicates the number of observations in the HotelClickStream dataset. Here, total of 3749 observation are             available. \n",
    "<br>\n",
    "•\tThe maximum time spent at a site i.e. DURATION is 227.343 mins and the minimum time spent at a site is 0.02 mins.\n",
    "<br>\n",
    "•\tThe maximum number of pages viewed at a site i.e. PAGE_VIEWED is 141 and the minimum number of pages viewed at a site is 1.\n",
    "<br>\n",
    "•\tThe maximum number of transactions for the household i.e. TRANS_FREQ is 30 and the minimum number of transactions for the       household is 1. \n",
    "<br>\n",
    "•\tThe average of all variables is shown as the mean in the below table.\n",
    "<br>\n",
    "•\tThe standard deviation shows how the numbers are spread out from the mean (average) value. Here, DIRECTTP_D' and REF_D'         have low standard deviation, Hence the data is closer to the mean value. \n",
    "<br>\n",
    "<br>\n"
   ]
  },
  {
   "cell_type": "markdown",
   "metadata": {},
   "source": [
    "# Question d) \n",
    "Please make a Scatter Plot and a Histogram for any of the variables of your own interests in the data. Then report any insights you may be able draw from the charts."
   ]
  },
  {
   "cell_type": "code",
   "execution_count": 15,
   "metadata": {
    "scrolled": true
   },
   "outputs": [
    {
     "data": {
      "text/plain": [
       "<matplotlib.axes._subplots.AxesSubplot at 0x1aada1795c0>"
      ]
     },
     "execution_count": 15,
     "metadata": {},
     "output_type": "execute_result"
    },
    {
     "data": {
      "image/png": "[encoded data removed]",
      "text/plain": [
       "<Figure size 432x288 with 1 Axes>"
      ]
     },
     "metadata": {
      "needs_background": "light"
     },
     "output_type": "display_data"
    }
   ],
   "source": [
    "sns.scatterplot(x=df[\"DURATION\"],y=df[\"PAGES_VIEWED\"])"
   ]
  },
  {
   "cell_type": "markdown",
   "metadata": {},
   "source": [
    "------------------------Result Summary------------------\n",
    "<br>\n",
    "The above scattered plot is drawn between two variables PAGES_VIEWED and DURATION.  It can be inferred from the graph that these two variables are Positively correlated to each other, as the number of pages viewed increases the duration spent on the website will also increase and vise-versa. Here ,we say that it is a positive correlation between the variables.\n",
    "<br>\n",
    "<br>"
   ]
  },
  {
   "cell_type": "code",
   "execution_count": 16,
   "metadata": {
    "scrolled": true
   },
   "outputs": [
    {
     "data": {
      "text/plain": [
       "<matplotlib.axes._subplots.AxesSubplot at 0x1aada7037b8>"
      ]
     },
     "execution_count": 16,
     "metadata": {},
     "output_type": "execute_result"
    },
    {
     "data": {
      "image/png": "[encoded data removed]",
      "text/plain": [
       "<Figure size 432x288 with 1 Axes>"
      ]
     },
     "metadata": {
      "needs_background": "light"
     },
     "output_type": "display_data"
    }
   ],
   "source": [
    "sns.scatterplot(x= df[\"PROD_TOTPRICE\"],y= df[\"TRANS_FREQ\"])"
   ]
  },
  {
   "cell_type": "markdown",
   "metadata": {},
   "source": [
    "------------------------Result Summary------------------\n",
    "<br>\n",
    "The above scattered plot is drawn between two variables PROD_TOTPRICE and TRANS_FREQ. It can be inferred from the graph that these two variables are Negatively correlated to each other, as the PROD_TOPRICE the total price paid for the transaction increases the TRNAS_FREQ the total number of transactions for the household decreases. Here, we say that it is a negative correlation between the variables.\n",
    "<br>\n",
    "<br>"
   ]
  },
  {
   "cell_type": "code",
   "execution_count": 17,
   "metadata": {},
   "outputs": [
    {
     "data": {
      "text/plain": [
       "<matplotlib.axes._subplots.AxesSubplot at 0x1aada77c860>"
      ]
     },
     "execution_count": 17,
     "metadata": {},
     "output_type": "execute_result"
    },
    {
     "data": {
      "image/png": "[encoded data removed]",
      "text/plain": [
       "<Figure size 432x288 with 1 Axes>"
      ]
     },
     "metadata": {
      "needs_background": "light"
     },
     "output_type": "display_data"
    }
   ],
   "source": [
    "sns.barplot(df[\"HOUSEHOLD_SIZE\"],y= df[\"PAGES_VIEWED\"])"
   ]
  },
  {
   "cell_type": "markdown",
   "metadata": {},
   "source": [
    "------------------------Result Summary------------------\n",
    "<br>\n",
    "The above plot is drawn between two variables HOUSEHOLD_SIZE and PAGES_VIEWED. It can be inferred from the graph that these two variables are not correlated to each other, as the HOUSEHOLD_SIZE has no visual effect on the number of Pages viewed. When there is no clear relationship between the variables, we can conclude that there is no correlation between the two variables.\n",
    "<br>\n",
    "<br>"
   ]
  },
  {
   "cell_type": "markdown",
   "metadata": {},
   "source": [
    "# Question 2  (a) \n",
    "\n",
    "Please use the linear regression technique to answer the question on “what are the factors that influence how much time people spend on a website?”( Hint: use DURATION as your DV). You should try different set of independent variables in the data set to see which one(s) has significant results (create dummy variables for some of the non-numerical variables if needed). (Hint: you may start with doing pair-wise correlations between Y and other variables to see what variables are significantly correlated with Y.) Please report 1) the final set of independent variables you have chosen and why you have chosen them; and 2) the estimated regression equation with simple explanations for each estimated coefficient (β). Please ONLY report and interpret your final regression results."
   ]
  },
  {
   "cell_type": "markdown",
   "metadata": {},
   "source": [
    "### Lets consider DURATION as our dependent variables(DV) and rest other varaibles as independent variables(IV) here. Lets compute the correlation coefficient between DV and other IV's."
   ]
  },
  {
   "cell_type": "markdown",
   "metadata": {},
   "source": [
    "Firstly creating a Dummy varibale for DOMAIN_NAME "
   ]
  },
  {
   "cell_type": "code",
   "execution_count": 18,
   "metadata": {},
   "outputs": [
    {
     "data": {
      "text/plain": [
       "Index(['ID', 'DOMAIN_ID', 'MACHINE_ID', 'SITE_SESSION_ID', 'TRANS_FREQ',\n",
       "       'DOMAIN_NAME', 'DIRECTP_D', 'PROD_NAME', 'PROD_QTY', 'PROD_TOTPRICE',\n",
       "       'REF_DOMAIN_NAME', 'DURATION', 'PAGES_VIEWED', 'HOUSEHOLD_SIZE',\n",
       "       'CHILDREN_D', 'CONNECTIONSPEED_D', 'REF_D', 'LOG_PRICE',\n",
       "       'DOMAIN_NAME_CAT'],\n",
       "      dtype='object')"
      ]
     },
     "execution_count": 18,
     "metadata": {},
     "output_type": "execute_result"
    }
   ],
   "source": [
    "df['DOMAIN_NAME'] = df['DOMAIN_NAME'].astype('category')\n",
    "df['DOMAIN_NAME_CAT']=df['DOMAIN_NAME'].cat.codes\n",
    "df.columns"
   ]
  },
  {
   "cell_type": "code",
   "execution_count": 19,
   "metadata": {},
   "outputs": [
    {
     "data": {
      "text/html": [
       "<div>\n",
       "<style scoped>\n",
       "    .dataframe tbody tr th:only-of-type {\n",
       "        vertical-align: middle;\n",
       "    }\n",
       "\n",
       "    .dataframe tbody tr th {\n",
       "        vertical-align: top;\n",
       "    }\n",
       "\n",
       "    .dataframe thead th {\n",
       "        text-align: right;\n",
       "    }\n",
       "</style>\n",
       "<table border=\"1\" class=\"dataframe\">\n",
       "  <thead>\n",
       "    <tr style=\"text-align: right;\">\n",
       "      <th></th>\n",
       "      <th>ID</th>\n",
       "      <th>DOMAIN_ID</th>\n",
       "      <th>MACHINE_ID</th>\n",
       "      <th>SITE_SESSION_ID</th>\n",
       "      <th>TRANS_FREQ</th>\n",
       "      <th>DOMAIN_NAME</th>\n",
       "      <th>DIRECTP_D</th>\n",
       "      <th>PROD_NAME</th>\n",
       "      <th>PROD_QTY</th>\n",
       "      <th>PROD_TOTPRICE</th>\n",
       "      <th>REF_DOMAIN_NAME</th>\n",
       "      <th>DURATION</th>\n",
       "      <th>PAGES_VIEWED</th>\n",
       "      <th>HOUSEHOLD_SIZE</th>\n",
       "      <th>CHILDREN_D</th>\n",
       "      <th>CONNECTIONSPEED_D</th>\n",
       "      <th>REF_D</th>\n",
       "      <th>LOG_PRICE</th>\n",
       "      <th>DOMAIN_NAME_CAT</th>\n",
       "    </tr>\n",
       "  </thead>\n",
       "  <tbody>\n",
       "    <tr>\n",
       "      <th>0</th>\n",
       "      <td>1525</td>\n",
       "      <td>13877604970862366012</td>\n",
       "      <td>85643811</td>\n",
       "      <td>4447900536932</td>\n",
       "      <td>1</td>\n",
       "      <td>ichotelsgroup.com</td>\n",
       "      <td>1</td>\n",
       "      <td>FT. LAUDERDALE AIRPORT/CRUISE - CROWNE PLAZA H...</td>\n",
       "      <td>32</td>\n",
       "      <td>2847.039993</td>\n",
       "      <td>NaN</td>\n",
       "      <td>23.328125</td>\n",
       "      <td>13</td>\n",
       "      <td>6</td>\n",
       "      <td>1</td>\n",
       "      <td>1</td>\n",
       "      <td>0.0</td>\n",
       "      <td>7.954386</td>\n",
       "      <td>13</td>\n",
       "    </tr>\n",
       "    <tr>\n",
       "      <th>1</th>\n",
       "      <td>402</td>\n",
       "      <td>7101213156062330967</td>\n",
       "      <td>76460408</td>\n",
       "      <td>71774258860245</td>\n",
       "      <td>1</td>\n",
       "      <td>orbitz.com</td>\n",
       "      <td>0</td>\n",
       "      <td>WALT DISNEY WORLD MAGIC YOUR WAY TICKETS! N/A</td>\n",
       "      <td>1</td>\n",
       "      <td>2406.939995</td>\n",
       "      <td>yahoo.com</td>\n",
       "      <td>47.109375</td>\n",
       "      <td>17</td>\n",
       "      <td>2</td>\n",
       "      <td>1</td>\n",
       "      <td>1</td>\n",
       "      <td>1.0</td>\n",
       "      <td>7.786527</td>\n",
       "      <td>17</td>\n",
       "    </tr>\n",
       "    <tr>\n",
       "      <th>2</th>\n",
       "      <td>233</td>\n",
       "      <td>7772350535129410931</td>\n",
       "      <td>74286590</td>\n",
       "      <td>3825866182640</td>\n",
       "      <td>1</td>\n",
       "      <td>hyatt.com</td>\n",
       "      <td>1</td>\n",
       "      <td>HYATT REGENCY MAUI RESORT  SPA FRI 11 MAR 2011...</td>\n",
       "      <td>5</td>\n",
       "      <td>2168.000000</td>\n",
       "      <td>google.com</td>\n",
       "      <td>20.058594</td>\n",
       "      <td>19</td>\n",
       "      <td>1</td>\n",
       "      <td>0</td>\n",
       "      <td>1</td>\n",
       "      <td>1.0</td>\n",
       "      <td>7.682022</td>\n",
       "      <td>12</td>\n",
       "    </tr>\n",
       "    <tr>\n",
       "      <th>3</th>\n",
       "      <td>2362</td>\n",
       "      <td>9530952911301729568</td>\n",
       "      <td>90015830</td>\n",
       "      <td>70000481538306</td>\n",
       "      <td>1</td>\n",
       "      <td>expedia.com</td>\n",
       "      <td>0</td>\n",
       "      <td>HOTEL - THE ADDRESS DUBAI MARINA ~SAT DEC/10/2...</td>\n",
       "      <td>5</td>\n",
       "      <td>1958.699997</td>\n",
       "      <td>NaN</td>\n",
       "      <td>47.546875</td>\n",
       "      <td>39</td>\n",
       "      <td>1</td>\n",
       "      <td>0</td>\n",
       "      <td>1</td>\n",
       "      <td>0.0</td>\n",
       "      <td>7.580547</td>\n",
       "      <td>7</td>\n",
       "    </tr>\n",
       "    <tr>\n",
       "      <th>4</th>\n",
       "      <td>2738</td>\n",
       "      <td>4024709573451844450</td>\n",
       "      <td>91435029</td>\n",
       "      <td>5158448795791</td>\n",
       "      <td>2</td>\n",
       "      <td>starwoodhotels.com</td>\n",
       "      <td>1</td>\n",
       "      <td>HOTEL-W NEW YORK - TIMES SQUARE 08/18~08/21</td>\n",
       "      <td>3</td>\n",
       "      <td>1797.000000</td>\n",
       "      <td>whotels.com</td>\n",
       "      <td>14.599609</td>\n",
       "      <td>19</td>\n",
       "      <td>1</td>\n",
       "      <td>0</td>\n",
       "      <td>1</td>\n",
       "      <td>1.0</td>\n",
       "      <td>7.494430</td>\n",
       "      <td>24</td>\n",
       "    </tr>\n",
       "  </tbody>\n",
       "</table>\n",
       "</div>"
      ],
      "text/plain": [
       "     ID             DOMAIN_ID  MACHINE_ID  SITE_SESSION_ID  TRANS_FREQ  \\\n",
       "0  1525  13877604970862366012    85643811    4447900536932           1   \n",
       "1   402   7101213156062330967    76460408   71774258860245           1   \n",
       "2   233   7772350535129410931    74286590    3825866182640           1   \n",
       "3  2362   9530952911301729568    90015830   70000481538306           1   \n",
       "4  2738   4024709573451844450    91435029    5158448795791           2   \n",
       "\n",
       "          DOMAIN_NAME  DIRECTP_D  \\\n",
       "0   ichotelsgroup.com          1   \n",
       "1          orbitz.com          0   \n",
       "2           hyatt.com          1   \n",
       "3         expedia.com          0   \n",
       "4  starwoodhotels.com          1   \n",
       "\n",
       "                                           PROD_NAME  PROD_QTY  PROD_TOTPRICE  \\\n",
       "0  FT. LAUDERDALE AIRPORT/CRUISE - CROWNE PLAZA H...        32    2847.039993   \n",
       "1      WALT DISNEY WORLD MAGIC YOUR WAY TICKETS! N/A         1    2406.939995   \n",
       "2  HYATT REGENCY MAUI RESORT  SPA FRI 11 MAR 2011...         5    2168.000000   \n",
       "3  HOTEL - THE ADDRESS DUBAI MARINA ~SAT DEC/10/2...         5    1958.699997   \n",
       "4        HOTEL-W NEW YORK - TIMES SQUARE 08/18~08/21         3    1797.000000   \n",
       "\n",
       "  REF_DOMAIN_NAME   DURATION  PAGES_VIEWED  HOUSEHOLD_SIZE  CHILDREN_D  \\\n",
       "0             NaN  23.328125            13               6           1   \n",
       "1       yahoo.com  47.109375            17               2           1   \n",
       "2      google.com  20.058594            19               1           0   \n",
       "3             NaN  47.546875            39               1           0   \n",
       "4     whotels.com  14.599609            19               1           0   \n",
       "\n",
       "   CONNECTIONSPEED_D  REF_D  LOG_PRICE  DOMAIN_NAME_CAT  \n",
       "0                  1    0.0   7.954386               13  \n",
       "1                  1    1.0   7.786527               17  \n",
       "2                  1    1.0   7.682022               12  \n",
       "3                  1    0.0   7.580547                7  \n",
       "4                  1    1.0   7.494430               24  "
      ]
     },
     "execution_count": 19,
     "metadata": {},
     "output_type": "execute_result"
    }
   ],
   "source": [
    "df.head(5)"
   ]
  },
  {
   "cell_type": "markdown",
   "metadata": {},
   "source": [
    "### Using correlation matrix and pearsonr methods to check the correlation between the variables."
   ]
  },
  {
   "cell_type": "code",
   "execution_count": 20,
   "metadata": {},
   "outputs": [
    {
     "data": {
      "text/html": [
       "<div>\n",
       "<style scoped>\n",
       "    .dataframe tbody tr th:only-of-type {\n",
       "        vertical-align: middle;\n",
       "    }\n",
       "\n",
       "    .dataframe tbody tr th {\n",
       "        vertical-align: top;\n",
       "    }\n",
       "\n",
       "    .dataframe thead th {\n",
       "        text-align: right;\n",
       "    }\n",
       "</style>\n",
       "<table border=\"1\" class=\"dataframe\">\n",
       "  <thead>\n",
       "    <tr style=\"text-align: right;\">\n",
       "      <th></th>\n",
       "      <th>ID</th>\n",
       "      <th>DOMAIN_ID</th>\n",
       "      <th>MACHINE_ID</th>\n",
       "      <th>SITE_SESSION_ID</th>\n",
       "      <th>TRANS_FREQ</th>\n",
       "      <th>DIRECTP_D</th>\n",
       "      <th>PROD_QTY</th>\n",
       "      <th>PROD_TOTPRICE</th>\n",
       "      <th>DURATION</th>\n",
       "      <th>PAGES_VIEWED</th>\n",
       "      <th>HOUSEHOLD_SIZE</th>\n",
       "      <th>CHILDREN_D</th>\n",
       "      <th>CONNECTIONSPEED_D</th>\n",
       "      <th>REF_D</th>\n",
       "      <th>LOG_PRICE</th>\n",
       "      <th>DOMAIN_NAME_CAT</th>\n",
       "    </tr>\n",
       "  </thead>\n",
       "  <tbody>\n",
       "    <tr>\n",
       "      <th>ID</th>\n",
       "      <td>1.000000</td>\n",
       "      <td>0.038586</td>\n",
       "      <td>0.952295</td>\n",
       "      <td>0.004208</td>\n",
       "      <td>-0.114883</td>\n",
       "      <td>-0.034965</td>\n",
       "      <td>0.005063</td>\n",
       "      <td>-0.007324</td>\n",
       "      <td>0.029594</td>\n",
       "      <td>0.022560</td>\n",
       "      <td>0.002909</td>\n",
       "      <td>-0.095701</td>\n",
       "      <td>0.000156</td>\n",
       "      <td>-0.018633</td>\n",
       "      <td>-0.025835</td>\n",
       "      <td>0.005158</td>\n",
       "    </tr>\n",
       "    <tr>\n",
       "      <th>DOMAIN_ID</th>\n",
       "      <td>0.038586</td>\n",
       "      <td>1.000000</td>\n",
       "      <td>0.038751</td>\n",
       "      <td>-0.007248</td>\n",
       "      <td>-0.089012</td>\n",
       "      <td>-0.351144</td>\n",
       "      <td>0.118018</td>\n",
       "      <td>0.033271</td>\n",
       "      <td>0.036471</td>\n",
       "      <td>0.064118</td>\n",
       "      <td>0.007169</td>\n",
       "      <td>0.010310</td>\n",
       "      <td>-0.026072</td>\n",
       "      <td>-0.086020</td>\n",
       "      <td>0.039558</td>\n",
       "      <td>0.009164</td>\n",
       "    </tr>\n",
       "    <tr>\n",
       "      <th>MACHINE_ID</th>\n",
       "      <td>0.952295</td>\n",
       "      <td>0.038751</td>\n",
       "      <td>1.000000</td>\n",
       "      <td>0.012307</td>\n",
       "      <td>-0.117147</td>\n",
       "      <td>-0.036581</td>\n",
       "      <td>0.014423</td>\n",
       "      <td>-0.002471</td>\n",
       "      <td>0.035211</td>\n",
       "      <td>0.027896</td>\n",
       "      <td>-0.004405</td>\n",
       "      <td>-0.097963</td>\n",
       "      <td>-0.003886</td>\n",
       "      <td>-0.011730</td>\n",
       "      <td>-0.018847</td>\n",
       "      <td>0.004483</td>\n",
       "    </tr>\n",
       "    <tr>\n",
       "      <th>SITE_SESSION_ID</th>\n",
       "      <td>0.004208</td>\n",
       "      <td>-0.007248</td>\n",
       "      <td>0.012307</td>\n",
       "      <td>1.000000</td>\n",
       "      <td>-0.017602</td>\n",
       "      <td>-0.030781</td>\n",
       "      <td>-0.015716</td>\n",
       "      <td>-0.010711</td>\n",
       "      <td>-0.030520</td>\n",
       "      <td>-0.043054</td>\n",
       "      <td>0.002602</td>\n",
       "      <td>-0.036044</td>\n",
       "      <td>0.032614</td>\n",
       "      <td>0.050735</td>\n",
       "      <td>0.023168</td>\n",
       "      <td>-0.007578</td>\n",
       "    </tr>\n",
       "    <tr>\n",
       "      <th>TRANS_FREQ</th>\n",
       "      <td>-0.114883</td>\n",
       "      <td>-0.089012</td>\n",
       "      <td>-0.117147</td>\n",
       "      <td>-0.017602</td>\n",
       "      <td>1.000000</td>\n",
       "      <td>0.163209</td>\n",
       "      <td>-0.065697</td>\n",
       "      <td>-0.052992</td>\n",
       "      <td>-0.010917</td>\n",
       "      <td>0.025028</td>\n",
       "      <td>-0.037308</td>\n",
       "      <td>-0.085999</td>\n",
       "      <td>0.036545</td>\n",
       "      <td>-0.079702</td>\n",
       "      <td>-0.000675</td>\n",
       "      <td>-0.013492</td>\n",
       "    </tr>\n",
       "    <tr>\n",
       "      <th>DIRECTP_D</th>\n",
       "      <td>-0.034965</td>\n",
       "      <td>-0.351144</td>\n",
       "      <td>-0.036581</td>\n",
       "      <td>-0.030781</td>\n",
       "      <td>0.163209</td>\n",
       "      <td>1.000000</td>\n",
       "      <td>-0.122628</td>\n",
       "      <td>-0.072143</td>\n",
       "      <td>-0.182002</td>\n",
       "      <td>-0.065661</td>\n",
       "      <td>-0.016967</td>\n",
       "      <td>0.022890</td>\n",
       "      <td>0.011958</td>\n",
       "      <td>0.151060</td>\n",
       "      <td>0.017000</td>\n",
       "      <td>-0.231298</td>\n",
       "    </tr>\n",
       "    <tr>\n",
       "      <th>PROD_QTY</th>\n",
       "      <td>0.005063</td>\n",
       "      <td>0.118018</td>\n",
       "      <td>0.014423</td>\n",
       "      <td>-0.015716</td>\n",
       "      <td>-0.065697</td>\n",
       "      <td>-0.122628</td>\n",
       "      <td>1.000000</td>\n",
       "      <td>0.489334</td>\n",
       "      <td>0.127122</td>\n",
       "      <td>0.126278</td>\n",
       "      <td>0.001331</td>\n",
       "      <td>-0.002309</td>\n",
       "      <td>0.003952</td>\n",
       "      <td>-0.048706</td>\n",
       "      <td>0.117125</td>\n",
       "      <td>-0.014860</td>\n",
       "    </tr>\n",
       "    <tr>\n",
       "      <th>PROD_TOTPRICE</th>\n",
       "      <td>-0.007324</td>\n",
       "      <td>0.033271</td>\n",
       "      <td>-0.002471</td>\n",
       "      <td>-0.010711</td>\n",
       "      <td>-0.052992</td>\n",
       "      <td>-0.072143</td>\n",
       "      <td>0.489334</td>\n",
       "      <td>1.000000</td>\n",
       "      <td>0.032113</td>\n",
       "      <td>-0.024857</td>\n",
       "      <td>0.001598</td>\n",
       "      <td>-0.016192</td>\n",
       "      <td>-0.003924</td>\n",
       "      <td>-0.004791</td>\n",
       "      <td>0.599914</td>\n",
       "      <td>-0.007032</td>\n",
       "    </tr>\n",
       "    <tr>\n",
       "      <th>DURATION</th>\n",
       "      <td>0.029594</td>\n",
       "      <td>0.036471</td>\n",
       "      <td>0.035211</td>\n",
       "      <td>-0.030520</td>\n",
       "      <td>-0.010917</td>\n",
       "      <td>-0.182002</td>\n",
       "      <td>0.127122</td>\n",
       "      <td>0.032113</td>\n",
       "      <td>1.000000</td>\n",
       "      <td>0.685071</td>\n",
       "      <td>-0.014173</td>\n",
       "      <td>0.044570</td>\n",
       "      <td>-0.021533</td>\n",
       "      <td>0.003514</td>\n",
       "      <td>-0.072967</td>\n",
       "      <td>0.058986</td>\n",
       "    </tr>\n",
       "    <tr>\n",
       "      <th>PAGES_VIEWED</th>\n",
       "      <td>0.022560</td>\n",
       "      <td>0.064118</td>\n",
       "      <td>0.027896</td>\n",
       "      <td>-0.043054</td>\n",
       "      <td>0.025028</td>\n",
       "      <td>-0.065661</td>\n",
       "      <td>0.126278</td>\n",
       "      <td>-0.024857</td>\n",
       "      <td>0.685071</td>\n",
       "      <td>1.000000</td>\n",
       "      <td>-0.008607</td>\n",
       "      <td>0.033867</td>\n",
       "      <td>-0.007393</td>\n",
       "      <td>-0.007442</td>\n",
       "      <td>-0.128531</td>\n",
       "      <td>0.097144</td>\n",
       "    </tr>\n",
       "    <tr>\n",
       "      <th>HOUSEHOLD_SIZE</th>\n",
       "      <td>0.002909</td>\n",
       "      <td>0.007169</td>\n",
       "      <td>-0.004405</td>\n",
       "      <td>0.002602</td>\n",
       "      <td>-0.037308</td>\n",
       "      <td>-0.016967</td>\n",
       "      <td>0.001331</td>\n",
       "      <td>0.001598</td>\n",
       "      <td>-0.014173</td>\n",
       "      <td>-0.008607</td>\n",
       "      <td>1.000000</td>\n",
       "      <td>0.196602</td>\n",
       "      <td>0.016614</td>\n",
       "      <td>-0.012480</td>\n",
       "      <td>0.011010</td>\n",
       "      <td>-0.003986</td>\n",
       "    </tr>\n",
       "    <tr>\n",
       "      <th>CHILDREN_D</th>\n",
       "      <td>-0.095701</td>\n",
       "      <td>0.010310</td>\n",
       "      <td>-0.097963</td>\n",
       "      <td>-0.036044</td>\n",
       "      <td>-0.085999</td>\n",
       "      <td>0.022890</td>\n",
       "      <td>-0.002309</td>\n",
       "      <td>-0.016192</td>\n",
       "      <td>0.044570</td>\n",
       "      <td>0.033867</td>\n",
       "      <td>0.196602</td>\n",
       "      <td>1.000000</td>\n",
       "      <td>0.059219</td>\n",
       "      <td>-0.022769</td>\n",
       "      <td>-0.007193</td>\n",
       "      <td>0.008528</td>\n",
       "    </tr>\n",
       "    <tr>\n",
       "      <th>CONNECTIONSPEED_D</th>\n",
       "      <td>0.000156</td>\n",
       "      <td>-0.026072</td>\n",
       "      <td>-0.003886</td>\n",
       "      <td>0.032614</td>\n",
       "      <td>0.036545</td>\n",
       "      <td>0.011958</td>\n",
       "      <td>0.003952</td>\n",
       "      <td>-0.003924</td>\n",
       "      <td>-0.021533</td>\n",
       "      <td>-0.007393</td>\n",
       "      <td>0.016614</td>\n",
       "      <td>0.059219</td>\n",
       "      <td>1.000000</td>\n",
       "      <td>-0.030296</td>\n",
       "      <td>-0.003415</td>\n",
       "      <td>-0.022337</td>\n",
       "    </tr>\n",
       "    <tr>\n",
       "      <th>REF_D</th>\n",
       "      <td>-0.018633</td>\n",
       "      <td>-0.086020</td>\n",
       "      <td>-0.011730</td>\n",
       "      <td>0.050735</td>\n",
       "      <td>-0.079702</td>\n",
       "      <td>0.151060</td>\n",
       "      <td>-0.048706</td>\n",
       "      <td>-0.004791</td>\n",
       "      <td>0.003514</td>\n",
       "      <td>-0.007442</td>\n",
       "      <td>-0.012480</td>\n",
       "      <td>-0.022769</td>\n",
       "      <td>-0.030296</td>\n",
       "      <td>1.000000</td>\n",
       "      <td>0.016385</td>\n",
       "      <td>-0.002669</td>\n",
       "    </tr>\n",
       "    <tr>\n",
       "      <th>LOG_PRICE</th>\n",
       "      <td>-0.025835</td>\n",
       "      <td>0.039558</td>\n",
       "      <td>-0.018847</td>\n",
       "      <td>0.023168</td>\n",
       "      <td>-0.000675</td>\n",
       "      <td>0.017000</td>\n",
       "      <td>0.117125</td>\n",
       "      <td>0.599914</td>\n",
       "      <td>-0.072967</td>\n",
       "      <td>-0.128531</td>\n",
       "      <td>0.011010</td>\n",
       "      <td>-0.007193</td>\n",
       "      <td>-0.003415</td>\n",
       "      <td>0.016385</td>\n",
       "      <td>1.000000</td>\n",
       "      <td>-0.075063</td>\n",
       "    </tr>\n",
       "    <tr>\n",
       "      <th>DOMAIN_NAME_CAT</th>\n",
       "      <td>0.005158</td>\n",
       "      <td>0.009164</td>\n",
       "      <td>0.004483</td>\n",
       "      <td>-0.007578</td>\n",
       "      <td>-0.013492</td>\n",
       "      <td>-0.231298</td>\n",
       "      <td>-0.014860</td>\n",
       "      <td>-0.007032</td>\n",
       "      <td>0.058986</td>\n",
       "      <td>0.097144</td>\n",
       "      <td>-0.003986</td>\n",
       "      <td>0.008528</td>\n",
       "      <td>-0.022337</td>\n",
       "      <td>-0.002669</td>\n",
       "      <td>-0.075063</td>\n",
       "      <td>1.000000</td>\n",
       "    </tr>\n",
       "  </tbody>\n",
       "</table>\n",
       "</div>"
      ],
      "text/plain": [
       "                         ID  DOMAIN_ID  MACHINE_ID  SITE_SESSION_ID  \\\n",
       "ID                 1.000000   0.038586    0.952295         0.004208   \n",
       "DOMAIN_ID          0.038586   1.000000    0.038751        -0.007248   \n",
       "MACHINE_ID         0.952295   0.038751    1.000000         0.012307   \n",
       "SITE_SESSION_ID    0.004208  -0.007248    0.012307         1.000000   \n",
       "TRANS_FREQ        -0.114883  -0.089012   -0.117147        -0.017602   \n",
       "DIRECTP_D         -0.034965  -0.351144   -0.036581        -0.030781   \n",
       "PROD_QTY           0.005063   0.118018    0.014423        -0.015716   \n",
       "PROD_TOTPRICE     -0.007324   0.033271   -0.002471        -0.010711   \n",
       "DURATION           0.029594   0.036471    0.035211        -0.030520   \n",
       "PAGES_VIEWED       0.022560   0.064118    0.027896        -0.043054   \n",
       "HOUSEHOLD_SIZE     0.002909   0.007169   -0.004405         0.002602   \n",
       "CHILDREN_D        -0.095701   0.010310   -0.097963        -0.036044   \n",
       "CONNECTIONSPEED_D  0.000156  -0.026072   -0.003886         0.032614   \n",
       "REF_D             -0.018633  -0.086020   -0.011730         0.050735   \n",
       "LOG_PRICE         -0.025835   0.039558   -0.018847         0.023168   \n",
       "DOMAIN_NAME_CAT    0.005158   0.009164    0.004483        -0.007578   \n",
       "\n",
       "                   TRANS_FREQ  DIRECTP_D  PROD_QTY  PROD_TOTPRICE  DURATION  \\\n",
       "ID                  -0.114883  -0.034965  0.005063      -0.007324  0.029594   \n",
       "DOMAIN_ID           -0.089012  -0.351144  0.118018       0.033271  0.036471   \n",
       "MACHINE_ID          -0.117147  -0.036581  0.014423      -0.002471  0.035211   \n",
       "SITE_SESSION_ID     -0.017602  -0.030781 -0.015716      -0.010711 -0.030520   \n",
       "TRANS_FREQ           1.000000   0.163209 -0.065697      -0.052992 -0.010917   \n",
       "DIRECTP_D            0.163209   1.000000 -0.122628      -0.072143 -0.182002   \n",
       "PROD_QTY            -0.065697  -0.122628  1.000000       0.489334  0.127122   \n",
       "PROD_TOTPRICE       -0.052992  -0.072143  0.489334       1.000000  0.032113   \n",
       "DURATION            -0.010917  -0.182002  0.127122       0.032113  1.000000   \n",
       "PAGES_VIEWED         0.025028  -0.065661  0.126278      -0.024857  0.685071   \n",
       "HOUSEHOLD_SIZE      -0.037308  -0.016967  0.001331       0.001598 -0.014173   \n",
       "CHILDREN_D          -0.085999   0.022890 -0.002309      -0.016192  0.044570   \n",
       "CONNECTIONSPEED_D    0.036545   0.011958  0.003952      -0.003924 -0.021533   \n",
       "REF_D               -0.079702   0.151060 -0.048706      -0.004791  0.003514   \n",
       "LOG_PRICE           -0.000675   0.017000  0.117125       0.599914 -0.072967   \n",
       "DOMAIN_NAME_CAT     -0.013492  -0.231298 -0.014860      -0.007032  0.058986   \n",
       "\n",
       "                   PAGES_VIEWED  HOUSEHOLD_SIZE  CHILDREN_D  \\\n",
       "ID                     0.022560        0.002909   -0.095701   \n",
       "DOMAIN_ID              0.064118        0.007169    0.010310   \n",
       "MACHINE_ID             0.027896       -0.004405   -0.097963   \n",
       "SITE_SESSION_ID       -0.043054        0.002602   -0.036044   \n",
       "TRANS_FREQ             0.025028       -0.037308   -0.085999   \n",
       "DIRECTP_D             -0.065661       -0.016967    0.022890   \n",
       "PROD_QTY               0.126278        0.001331   -0.002309   \n",
       "PROD_TOTPRICE         -0.024857        0.001598   -0.016192   \n",
       "DURATION               0.685071       -0.014173    0.044570   \n",
       "PAGES_VIEWED           1.000000       -0.008607    0.033867   \n",
       "HOUSEHOLD_SIZE        -0.008607        1.000000    0.196602   \n",
       "CHILDREN_D             0.033867        0.196602    1.000000   \n",
       "CONNECTIONSPEED_D     -0.007393        0.016614    0.059219   \n",
       "REF_D                 -0.007442       -0.012480   -0.022769   \n",
       "LOG_PRICE             -0.128531        0.011010   -0.007193   \n",
       "DOMAIN_NAME_CAT        0.097144       -0.003986    0.008528   \n",
       "\n",
       "                   CONNECTIONSPEED_D     REF_D  LOG_PRICE  DOMAIN_NAME_CAT  \n",
       "ID                          0.000156 -0.018633  -0.025835         0.005158  \n",
       "DOMAIN_ID                  -0.026072 -0.086020   0.039558         0.009164  \n",
       "MACHINE_ID                 -0.003886 -0.011730  -0.018847         0.004483  \n",
       "SITE_SESSION_ID             0.032614  0.050735   0.023168        -0.007578  \n",
       "TRANS_FREQ                  0.036545 -0.079702  -0.000675        -0.013492  \n",
       "DIRECTP_D                   0.011958  0.151060   0.017000        -0.231298  \n",
       "PROD_QTY                    0.003952 -0.048706   0.117125        -0.014860  \n",
       "PROD_TOTPRICE              -0.003924 -0.004791   0.599914        -0.007032  \n",
       "DURATION                   -0.021533  0.003514  -0.072967         0.058986  \n",
       "PAGES_VIEWED               -0.007393 -0.007442  -0.128531         0.097144  \n",
       "HOUSEHOLD_SIZE              0.016614 -0.012480   0.011010        -0.003986  \n",
       "CHILDREN_D                  0.059219 -0.022769  -0.007193         0.008528  \n",
       "CONNECTIONSPEED_D           1.000000 -0.030296  -0.003415        -0.022337  \n",
       "REF_D                      -0.030296  1.000000   0.016385        -0.002669  \n",
       "LOG_PRICE                  -0.003415  0.016385   1.000000        -0.075063  \n",
       "DOMAIN_NAME_CAT            -0.022337 -0.002669  -0.075063         1.000000  "
      ]
     },
     "execution_count": 20,
     "metadata": {},
     "output_type": "execute_result"
    }
   ],
   "source": [
    "df.corr(method=\"pearson\")"
   ]
  },
  {
   "cell_type": "markdown",
   "metadata": {},
   "source": [
    "### pearsonr method\n",
    "<br>\n",
    "Pearson’s correlation requires that each dataset be normally distributed. Like other correlation coefficients, this one varies between -1 and +1 with 0 implying no correlation. Correlations of -1 or +1 imply an exact linear relationship. Positive correlations imply that as x increases, so does y. Negative correlations imply that as x increases, y decreases."
   ]
  },
  {
   "cell_type": "code",
   "execution_count": 21,
   "metadata": {},
   "outputs": [
    {
     "data": {
      "text/plain": [
       "(-0.010916691309780535, 0.5039957529503801)"
      ]
     },
     "execution_count": 21,
     "metadata": {},
     "output_type": "execute_result"
    }
   ],
   "source": [
    "stats.pearsonr(x=df[\"TRANS_FREQ\"], y=df[\"DURATION\"])"
   ]
  },
  {
   "cell_type": "markdown",
   "metadata": {},
   "source": [
    "TRANS_FREQ is Not significant correlated with duration."
   ]
  },
  {
   "cell_type": "code",
   "execution_count": 22,
   "metadata": {},
   "outputs": [
    {
     "data": {
      "text/plain": [
       "(0.05898643996133956, 0.0003019427518825999)"
      ]
     },
     "execution_count": 22,
     "metadata": {},
     "output_type": "execute_result"
    }
   ],
   "source": [
    "stats.pearsonr(x=df[\"DOMAIN_NAME_CAT\"], y=df[\"DURATION\"])"
   ]
  },
  {
   "cell_type": "markdown",
   "metadata": {},
   "source": [
    "DOMAIN_NAME_CAT is significantly correlated with duration."
   ]
  },
  {
   "cell_type": "code",
   "execution_count": 23,
   "metadata": {},
   "outputs": [
    {
     "data": {
      "text/plain": [
       "(-0.18200167861751276, 2.7753543208190736e-29)"
      ]
     },
     "execution_count": 23,
     "metadata": {},
     "output_type": "execute_result"
    }
   ],
   "source": [
    "stats.pearsonr(x=df[\"DIRECTP_D\"], y=df[\"DURATION\"])"
   ]
  },
  {
   "cell_type": "markdown",
   "metadata": {},
   "source": [
    "DIRECTP_D is significantly correlated with duration and P-value is negative exponent value which is less than 0.05"
   ]
  },
  {
   "cell_type": "code",
   "execution_count": 24,
   "metadata": {},
   "outputs": [
    {
     "data": {
      "text/plain": [
       "(0.1271217337710795, 5.599137613824228e-15)"
      ]
     },
     "execution_count": 24,
     "metadata": {},
     "output_type": "execute_result"
    }
   ],
   "source": [
    "stats.pearsonr(x=df[\"PROD_QTY\"], y=df[\"DURATION\"])"
   ]
  },
  {
   "cell_type": "markdown",
   "metadata": {},
   "source": [
    "PROD_QTY is significantly correlated with duration and P-value is negative exponent value which is less than 0.05"
   ]
  },
  {
   "cell_type": "code",
   "execution_count": 25,
   "metadata": {},
   "outputs": [
    {
     "data": {
      "text/plain": [
       "(0.032113478651351654, 0.049283589013318065)"
      ]
     },
     "execution_count": 25,
     "metadata": {},
     "output_type": "execute_result"
    }
   ],
   "source": [
    "stats.pearsonr(x=df[\"PROD_TOTPRICE\"], y=df[\"DURATION\"])"
   ]
  },
  {
   "cell_type": "markdown",
   "metadata": {},
   "source": [
    "PROD_TOTPRICE is significantly correlated with duration as P-value is less than 0.05"
   ]
  },
  {
   "cell_type": "code",
   "execution_count": 26,
   "metadata": {},
   "outputs": [
    {
     "data": {
      "text/plain": [
       "(0.6850714969486446, 0.0)"
      ]
     },
     "execution_count": 26,
     "metadata": {},
     "output_type": "execute_result"
    }
   ],
   "source": [
    "stats.pearsonr(x=df[\"PAGES_VIEWED\"], y=df[\"DURATION\"])"
   ]
  },
  {
   "cell_type": "markdown",
   "metadata": {},
   "source": [
    " PAGES_VIEWED  is significantly correlated with duration as P-value is less than 0.05 and the correlation coefficient value is 68% which shows strong positive correlation with duration."
   ]
  },
  {
   "cell_type": "code",
   "execution_count": 27,
   "metadata": {},
   "outputs": [
    {
     "data": {
      "text/plain": [
       "(0.0035135107345671103, 0.8297221402160371)"
      ]
     },
     "execution_count": 27,
     "metadata": {},
     "output_type": "execute_result"
    }
   ],
   "source": [
    "stats.pearsonr(x=df[\"REF_D\"], y=df[\"DURATION\"])"
   ]
  },
  {
   "cell_type": "markdown",
   "metadata": {},
   "source": [
    "REF_D is not significantly correlated with duration "
   ]
  },
  {
   "cell_type": "code",
   "execution_count": 28,
   "metadata": {},
   "outputs": [
    {
     "data": {
      "text/plain": [
       "(-0.014173327095217595, 0.38562762328698474)"
      ]
     },
     "execution_count": 28,
     "metadata": {},
     "output_type": "execute_result"
    }
   ],
   "source": [
    "stats.pearsonr(x=df[\"HOUSEHOLD_SIZE\"], y=df[\"DURATION\"])\n"
   ]
  },
  {
   "cell_type": "code",
   "execution_count": 29,
   "metadata": {},
   "outputs": [
    {
     "data": {
      "text/plain": [
       "(-0.02153259465369433, 0.1874587698948439)"
      ]
     },
     "execution_count": 29,
     "metadata": {},
     "output_type": "execute_result"
    }
   ],
   "source": [
    "stats.pearsonr(x=df[\"CONNECTIONSPEED_D\"], y=df[\"DURATION\"])"
   ]
  },
  {
   "cell_type": "markdown",
   "metadata": {},
   "source": [
    "HOUSEHOLD_SIZE,CONNECTIONSPEED_D both variables are Not significant correlated with duration."
   ]
  },
  {
   "cell_type": "code",
   "execution_count": 30,
   "metadata": {},
   "outputs": [
    {
     "data": {
      "text/plain": [
       "(0.04457028022909549, 0.006344132849191042)"
      ]
     },
     "execution_count": 30,
     "metadata": {},
     "output_type": "execute_result"
    }
   ],
   "source": [
    "stats.pearsonr(x=df[\"CHILDREN_D\"], y=df[\"DURATION\"])"
   ]
  },
  {
   "cell_type": "markdown",
   "metadata": {},
   "source": [
    "CHILDREN_D is significantly correlated with duration as P-value is less than 0.05"
   ]
  },
  {
   "cell_type": "markdown",
   "metadata": {},
   "source": [
    "### Start to do regression model"
   ]
  },
  {
   "cell_type": "markdown",
   "metadata": {},
   "source": [
    "Variables like ID, DOMAIN_ID, MACHINE_ID, SITE_SESSION_ID in our dataset are not significant for our regression model, beacuse they just Identification number's. So we are not using these varible in our model. \n",
    "<br>\n",
    "<br>"
   ]
  },
  {
   "cell_type": "code",
   "execution_count": 31,
   "metadata": {},
   "outputs": [],
   "source": [
    "import statsmodels.api as sm"
   ]
  },
  {
   "cell_type": "code",
   "execution_count": 32,
   "metadata": {},
   "outputs": [
    {
     "name": "stdout",
     "output_type": "stream",
     "text": [
      "                                 OLS Regression Results                                \n",
      "=======================================================================================\n",
      "Dep. Variable:               DURATION   R-squared (uncentered):                   0.756\n",
      "Model:                            OLS   Adj. R-squared (uncentered):              0.756\n",
      "Method:                 Least Squares   F-statistic:                              3874.\n",
      "Date:                Thu, 09 Apr 2020   Prob (F-statistic):                        0.00\n",
      "Time:                        22:51:33   Log-Likelihood:                         -15902.\n",
      "No. Observations:                3749   AIC:                                  3.181e+04\n",
      "Df Residuals:                    3746   BIC:                                  3.183e+04\n",
      "Df Model:                           3                                                  \n",
      "Covariance Type:            nonrobust                                                  \n",
      "===================================================================================\n",
      "                      coef    std err          t      P>|t|      [0.025      0.975]\n",
      "-----------------------------------------------------------------------------------\n",
      "DOMAIN_NAME_CAT     0.2849      0.030      9.358      0.000       0.225       0.345\n",
      "PAGES_VIEWED        0.9832      0.016     61.445      0.000       0.952       1.015\n",
      "PROD_QTY            1.5839      0.179      8.847      0.000       1.233       1.935\n",
      "==============================================================================\n",
      "Omnibus:                     1140.274   Durbin-Watson:                   1.973\n",
      "Prob(Omnibus):                  0.000   Jarque-Bera (JB):             7836.590\n",
      "Skew:                           1.268   Prob(JB):                         0.00\n",
      "Kurtosis:                       9.613   Cond. No.                         17.5\n",
      "==============================================================================\n",
      "\n",
      "Warnings:\n",
      "[1] Standard Errors assume that the covariance matrix of the errors is correctly specified.\n"
     ]
    }
   ],
   "source": [
    "mod=sm.OLS(df.DURATION,df[['DOMAIN_NAME_CAT','PAGES_VIEWED','PROD_QTY']])\n",
    "res=mod.fit()\n",
    "print(res.summary())"
   ]
  },
  {
   "cell_type": "code",
   "execution_count": 33,
   "metadata": {},
   "outputs": [
    {
     "name": "stderr",
     "output_type": "stream",
     "text": [
      "C:\\Users\\monik\\Anaconda3\\lib\\site-packages\\numpy\\core\\fromnumeric.py:2389: FutureWarning: Method .ptp is deprecated and will be removed in a future version. Use numpy.ptp instead.\n",
      "  return ptp(axis=axis, out=out, **kwargs)\n"
     ]
    }
   ],
   "source": [
    "indepvar=sm.add_constant(df[['DOMAIN_NAME_CAT','PAGES_VIEWED','PROD_QTY']])"
   ]
  },
  {
   "cell_type": "code",
   "execution_count": 34,
   "metadata": {},
   "outputs": [
    {
     "name": "stdout",
     "output_type": "stream",
     "text": [
      "                            OLS Regression Results                            \n",
      "==============================================================================\n",
      "Dep. Variable:               DURATION   R-squared:                       0.471\n",
      "Model:                            OLS   Adj. R-squared:                  0.471\n",
      "Method:                 Least Squares   F-statistic:                     1112.\n",
      "Date:                Thu, 09 Apr 2020   Prob (F-statistic):               0.00\n",
      "Time:                        22:51:33   Log-Likelihood:                -15849.\n",
      "No. Observations:                3749   AIC:                         3.171e+04\n",
      "Df Residuals:                    3745   BIC:                         3.173e+04\n",
      "Df Model:                           3                                         \n",
      "Covariance Type:            nonrobust                                         \n",
      "===================================================================================\n",
      "                      coef    std err          t      P>|t|      [0.025      0.975]\n",
      "-----------------------------------------------------------------------------------\n",
      "const               7.3384      0.707     10.385      0.000       5.953       8.724\n",
      "DOMAIN_NAME_CAT    -0.0230      0.042     -0.545      0.586      -0.106       0.060\n",
      "PAGES_VIEWED        0.9329      0.017     56.518      0.000       0.901       0.965\n",
      "PROD_QTY            0.6755      0.197      3.428      0.001       0.289       1.062\n",
      "==============================================================================\n",
      "Omnibus:                     1356.621   Durbin-Watson:                   1.976\n",
      "Prob(Omnibus):                  0.000   Jarque-Bera (JB):             9347.517\n",
      "Skew:                           1.552   Prob(JB):                         0.00\n",
      "Kurtosis:                      10.085   Cond. No.                         70.6\n",
      "==============================================================================\n",
      "\n",
      "Warnings:\n",
      "[1] Standard Errors assume that the covariance matrix of the errors is correctly specified.\n"
     ]
    }
   ],
   "source": [
    "mod=sm.OLS(df.DURATION,indepvar)\n",
    "res=mod.fit()\n",
    "print(res.summary())"
   ]
  },
  {
   "cell_type": "markdown",
   "metadata": {},
   "source": [
    "<br>\n",
    "<br>\n",
    "We first run the linear regression model using the entire dataset. Then we intrepreted the p-values for each varibles in the model and picked thoes significant varibles for our final model. We can see that PAGES_VIEWED and PROD_QTY are statistically significant."
   ]
  },
  {
   "cell_type": "markdown",
   "metadata": {},
   "source": [
    "### FINAL Model: \n",
    "\n",
    "Fit data into the model and printing the result summary "
   ]
  },
  {
   "cell_type": "code",
   "execution_count": 35,
   "metadata": {},
   "outputs": [
    {
     "name": "stdout",
     "output_type": "stream",
     "text": [
      "                                 OLS Regression Results                                \n",
      "=======================================================================================\n",
      "Dep. Variable:               DURATION   R-squared (uncentered):                   0.751\n",
      "Model:                            OLS   Adj. R-squared (uncentered):              0.750\n",
      "Method:                 Least Squares   F-statistic:                              5637.\n",
      "Date:                Thu, 09 Apr 2020   Prob (F-statistic):                        0.00\n",
      "Time:                        22:51:33   Log-Likelihood:                         -15945.\n",
      "No. Observations:                3749   AIC:                                  3.189e+04\n",
      "Df Residuals:                    3747   BIC:                                  3.191e+04\n",
      "Df Model:                           2                                                  \n",
      "Covariance Type:            nonrobust                                                  \n",
      "================================================================================\n",
      "                   coef    std err          t      P>|t|      [0.025      0.975]\n",
      "--------------------------------------------------------------------------------\n",
      "PAGES_VIEWED     1.0507      0.014     72.696      0.000       1.022       1.079\n",
      "PROD_QTY         2.3315      0.162     14.387      0.000       2.014       2.649\n",
      "==============================================================================\n",
      "Omnibus:                     1008.394   Durbin-Watson:                   1.939\n",
      "Prob(Omnibus):                  0.000   Jarque-Bera (JB):             7868.552\n",
      "Skew:                           1.062   Prob(JB):                         0.00\n",
      "Kurtosis:                       9.772   Cond. No.                         14.5\n",
      "==============================================================================\n",
      "\n",
      "Warnings:\n",
      "[1] Standard Errors assume that the covariance matrix of the errors is correctly specified.\n"
     ]
    }
   ],
   "source": [
    "mod=sm.OLS(df.DURATION,df[['PAGES_VIEWED','PROD_QTY']])\n",
    "res=mod.fit()\n",
    "print(res.summary())\n"
   ]
  },
  {
   "cell_type": "markdown",
   "metadata": {},
   "source": [
    "We need intercept, unless you have a strong evidence for non-intercept"
   ]
  },
  {
   "cell_type": "code",
   "execution_count": 36,
   "metadata": {},
   "outputs": [],
   "source": [
    "indepvar=sm.add_constant(df[['PAGES_VIEWED','PROD_QTY']])"
   ]
  },
  {
   "cell_type": "code",
   "execution_count": 37,
   "metadata": {},
   "outputs": [
    {
     "name": "stdout",
     "output_type": "stream",
     "text": [
      "                            OLS Regression Results                            \n",
      "==============================================================================\n",
      "Dep. Variable:               DURATION   R-squared:                       0.471\n",
      "Model:                            OLS   Adj. R-squared:                  0.471\n",
      "Method:                 Least Squares   F-statistic:                     1668.\n",
      "Date:                Thu, 09 Apr 2020   Prob (F-statistic):               0.00\n",
      "Time:                        22:51:33   Log-Likelihood:                -15849.\n",
      "No. Observations:                3749   AIC:                         3.170e+04\n",
      "Df Residuals:                    3746   BIC:                         3.172e+04\n",
      "Df Model:                           2                                         \n",
      "Covariance Type:            nonrobust                                         \n",
      "================================================================================\n",
      "                   coef    std err          t      P>|t|      [0.025      0.975]\n",
      "--------------------------------------------------------------------------------\n",
      "const            7.0677      0.503     14.060      0.000       6.082       8.053\n",
      "PAGES_VIEWED     0.9320      0.016     56.752      0.000       0.900       0.964\n",
      "PROD_QTY         0.6784      0.197      3.445      0.001       0.292       1.065\n",
      "==============================================================================\n",
      "Omnibus:                     1355.007   Durbin-Watson:                   1.977\n",
      "Prob(Omnibus):                  0.000   Jarque-Bera (JB):             9315.302\n",
      "Skew:                           1.551   Prob(JB):                         0.00\n",
      "Kurtosis:                      10.072   Cond. No.                         47.4\n",
      "==============================================================================\n",
      "\n",
      "Warnings:\n",
      "[1] Standard Errors assume that the covariance matrix of the errors is correctly specified.\n"
     ]
    }
   ],
   "source": [
    "mod=sm.OLS(df.DURATION,indepvar)\n",
    "res=mod.fit()\n",
    "print(res.summary())"
   ]
  },
  {
   "cell_type": "markdown",
   "metadata": {},
   "source": [
    "### Interpreting the Regression Results\n",
    "\n",
    "I highlighted several important components within the results:\n",
    "\n",
    "1. Adjusted. R-squared reflects the fit of the model. R-squared values range from 0 to 1, where a higher value generally indicates a better fit, assuming certain conditions are met. In this model, the Adj. R-squared value is 47%. \n",
    "<br>\n",
    "<br>\n",
    "2. const coefficient is Y-intercept. It means that if both the PAGES_VIEWED and PROD_QTY coefficients are zero, then the expected output (i.e., the Y) would be equal to the const coefficient i.e.7.06 min.\n",
    "<br>\n",
    "<br>\n",
    "3. PAGES_VIEWED coefficient represents the change in the output Y due to a change of one unit in the PAGES_VIEWED (everything else held constant)\n",
    "<br>\n",
    "<br>\n",
    "4. PROD_QTY coefficient represents the change in the output Y due to a change of one unit in the PROD_QTY(everything else held constant)\n",
    "<br>\n",
    "<br>\n",
    "5. std err reflects the level of accuracy of the coefficients. The lower it is, the higher is the level of accuracy\n",
    "<br>\n",
    "<br>\n",
    "6. P >|t| is your p-value. A p-value of less than 0.05 is considered to be statistically significant\n",
    "<br>\n",
    "<br>\n",
    "7. Confidence Interval represents the range in which our coefficients are likely to fall (with a likelihood of 95%)"
   ]
  },
  {
   "cell_type": "markdown",
   "metadata": {},
   "source": [
    "# Question 2  (b)  \n",
    "Please use the linear regression technique to answer the question on “what are the factors that influence how many pages people views when visiting a website?”(Hint:use PAGES_VIEWED as your DV). And decide your IVs by conducting the similar exercises in the above analysis. Please ONLY report and interpret your final regression results."
   ]
  },
  {
   "cell_type": "markdown",
   "metadata": {},
   "source": [
    "### Lets consider PAGES_VIEWED  as our dependent variables(DV) and rest other varaibles as independent variables(IV) here. Lets compute the correlation coefficient between DV and other IV's."
   ]
  },
  {
   "cell_type": "markdown",
   "metadata": {},
   "source": [
    "Computing the correlation coefficient between PAGES_VIEWED and rest of the varibles.\n",
    "<br>\n",
    "<br>\n",
    "### pearsonr method\n",
    "\n",
    "Pearson’s correlation requires that each dataset be normally distributed. Like other correlation coefficients, this one varies between -1 and +1 with 0 implying no correlation. Correlations of -1 or +1 imply an exact linear relationship. Positive correlations imply that as x increases, so does y. Negative correlations imply that as x increases, y decreases.\n",
    "<br>"
   ]
  },
  {
   "cell_type": "code",
   "execution_count": 38,
   "metadata": {},
   "outputs": [
    {
     "data": {
      "text/plain": [
       "(0.02502846746458245, 0.12547334735061133)"
      ]
     },
     "execution_count": 38,
     "metadata": {},
     "output_type": "execute_result"
    }
   ],
   "source": [
    "stats.pearsonr(x=df[\"TRANS_FREQ\"], y=df[\"PAGES_VIEWED\"])"
   ]
  },
  {
   "cell_type": "code",
   "execution_count": 39,
   "metadata": {},
   "outputs": [
    {
     "data": {
      "text/plain": [
       "(0.09714356619793295, 2.5204051228027408e-09)"
      ]
     },
     "execution_count": 39,
     "metadata": {},
     "output_type": "execute_result"
    }
   ],
   "source": [
    "stats.pearsonr(x=df[\"DOMAIN_NAME_CAT\"], y=df[\"PAGES_VIEWED\"])"
   ]
  },
  {
   "cell_type": "markdown",
   "metadata": {},
   "source": [
    "DOMAIN_NAME_CAT is significantly correlated with page_viewed and P-value is negative exponent value which is less than 0.05"
   ]
  },
  {
   "cell_type": "code",
   "execution_count": 40,
   "metadata": {},
   "outputs": [
    {
     "data": {
      "text/plain": [
       "(-0.06566123654458968, 5.736919897386752e-05)"
      ]
     },
     "execution_count": 40,
     "metadata": {},
     "output_type": "execute_result"
    }
   ],
   "source": [
    "stats.pearsonr(x=df[\"DIRECTP_D\"], y=df[\"PAGES_VIEWED\"])"
   ]
  },
  {
   "cell_type": "markdown",
   "metadata": {},
   "source": [
    "DIRECTP_D is significantly correlated with page_viewed and P-value is negative exponent value which is less than 0.05"
   ]
  },
  {
   "cell_type": "code",
   "execution_count": 41,
   "metadata": {},
   "outputs": [
    {
     "data": {
      "text/plain": [
       "(0.12627838705261366, 8.465259595338043e-15)"
      ]
     },
     "execution_count": 41,
     "metadata": {},
     "output_type": "execute_result"
    }
   ],
   "source": [
    "stats.pearsonr(x=df[\"PROD_QTY\"], y=df[\"PAGES_VIEWED\"])"
   ]
  },
  {
   "cell_type": "markdown",
   "metadata": {},
   "source": [
    "PROD_QTY is significantly correlated with page_viewed and P-value is negative exponent value which is less than 0.05"
   ]
  },
  {
   "cell_type": "code",
   "execution_count": 42,
   "metadata": {},
   "outputs": [
    {
     "data": {
      "text/plain": [
       "(-0.12853088924640588, 2.7892546473508024e-15)"
      ]
     },
     "execution_count": 42,
     "metadata": {},
     "output_type": "execute_result"
    }
   ],
   "source": [
    "stats.pearsonr(x=df[\"LOG_PRICE\"], y=df[\"PAGES_VIEWED\"])"
   ]
  },
  {
   "cell_type": "markdown",
   "metadata": {},
   "source": [
    "LOG_PRICE is significant correlated with page_viewed and P-value is negative exponent value which is less than 0.05"
   ]
  },
  {
   "cell_type": "code",
   "execution_count": 43,
   "metadata": {},
   "outputs": [
    {
     "data": {
      "text/plain": [
       "(0.6850714969486446, 0.0)"
      ]
     },
     "execution_count": 43,
     "metadata": {},
     "output_type": "execute_result"
    }
   ],
   "source": [
    "stats.pearsonr(x=df[\"DURATION\"], y=df[\"PAGES_VIEWED\"])"
   ]
  },
  {
   "cell_type": "markdown",
   "metadata": {},
   "source": [
    "DURATION are significant correlated with page_viewed and the p- value is less than 0.05"
   ]
  },
  {
   "cell_type": "code",
   "execution_count": 44,
   "metadata": {},
   "outputs": [
    {
     "data": {
      "text/plain": [
       "(-0.008607005696039127, 0.598309535910382)"
      ]
     },
     "execution_count": 44,
     "metadata": {},
     "output_type": "execute_result"
    }
   ],
   "source": [
    "stats.pearsonr(x=df[\"HOUSEHOLD_SIZE\"], y=df[\"PAGES_VIEWED\"])"
   ]
  },
  {
   "cell_type": "markdown",
   "metadata": {},
   "source": [
    "'HOUSEHOLD_SIZE', are Not significant correlated with page_viewed."
   ]
  },
  {
   "cell_type": "code",
   "execution_count": 45,
   "metadata": {},
   "outputs": [
    {
     "data": {
      "text/plain": [
       "(0.033867159863631785, 0.03812035478669465)"
      ]
     },
     "execution_count": 45,
     "metadata": {},
     "output_type": "execute_result"
    }
   ],
   "source": [
    "stats.pearsonr(x=df[\"CHILDREN_D\"], y=df[\"PAGES_VIEWED\"])"
   ]
  },
  {
   "cell_type": "markdown",
   "metadata": {},
   "source": [
    "CHILDREN_D are significant correlated with page_viewed and the p- value is less than 0.05"
   ]
  },
  {
   "cell_type": "code",
   "execution_count": 46,
   "metadata": {},
   "outputs": [
    {
     "data": {
      "text/plain": [
       "(-0.007393109168162699, 0.6508883033752484)"
      ]
     },
     "execution_count": 46,
     "metadata": {},
     "output_type": "execute_result"
    }
   ],
   "source": [
    "stats.pearsonr(x=df[\"CONNECTIONSPEED_D\"], y=df[\"PAGES_VIEWED\"])"
   ]
  },
  {
   "cell_type": "code",
   "execution_count": 47,
   "metadata": {},
   "outputs": [
    {
     "data": {
      "text/plain": [
       "(-0.0074419418914331275, 0.6487369110948983)"
      ]
     },
     "execution_count": 47,
     "metadata": {},
     "output_type": "execute_result"
    }
   ],
   "source": [
    "stats.pearsonr(x=df[\"REF_D\"], y=df[\"PAGES_VIEWED\"])"
   ]
  },
  {
   "cell_type": "markdown",
   "metadata": {},
   "source": [
    "'CONNECTIONSPEED_D','REF_D', are Not significant correlated with page_viewed."
   ]
  },
  {
   "cell_type": "markdown",
   "metadata": {},
   "source": [
    "### Start to do regression model\n",
    "\n",
    "\n",
    "Variables like ID, DOMAIN_ID, MACHINE_ID, SITE_SESSION_ID in our dataset are not significant for our regression model, beacuse they just Identification number's. So we are not using these varible in our model."
   ]
  },
  {
   "cell_type": "code",
   "execution_count": 48,
   "metadata": {},
   "outputs": [
    {
     "name": "stdout",
     "output_type": "stream",
     "text": [
      "                                 OLS Regression Results                                \n",
      "=======================================================================================\n",
      "Dep. Variable:           PAGES_VIEWED   R-squared (uncentered):                   0.759\n",
      "Model:                            OLS   Adj. R-squared (uncentered):              0.759\n",
      "Method:                 Least Squares   F-statistic:                              2951.\n",
      "Date:                Thu, 09 Apr 2020   Prob (F-statistic):                        0.00\n",
      "Time:                        22:51:33   Log-Likelihood:                         -14681.\n",
      "No. Observations:                3749   AIC:                                  2.937e+04\n",
      "Df Residuals:                    3745   BIC:                                  2.940e+04\n",
      "Df Model:                           4                                                  \n",
      "Covariance Type:            nonrobust                                                  \n",
      "===================================================================================\n",
      "                      coef    std err          t      P>|t|      [0.025      0.975]\n",
      "-----------------------------------------------------------------------------------\n",
      "TRANS_FREQ          0.2229      0.047      4.719      0.000       0.130       0.315\n",
      "DOMAIN_NAME_CAT     0.2875      0.026     10.974      0.000       0.236       0.339\n",
      "DURATION            0.5194      0.008     62.536      0.000       0.503       0.536\n",
      "LOG_PRICE           0.1153      0.079      1.457      0.145      -0.040       0.271\n",
      "==============================================================================\n",
      "Omnibus:                     1549.504   Durbin-Watson:                   1.873\n",
      "Prob(Omnibus):                  0.000   Jarque-Bera (JB):            20427.711\n",
      "Skew:                           1.600   Prob(JB):                         0.00\n",
      "Kurtosis:                      13.979   Cond. No.                         14.7\n",
      "==============================================================================\n",
      "\n",
      "Warnings:\n",
      "[1] Standard Errors assume that the covariance matrix of the errors is correctly specified.\n"
     ]
    }
   ],
   "source": [
    "mod=sm.OLS(df.PAGES_VIEWED,df[['TRANS_FREQ','DOMAIN_NAME_CAT','DURATION','LOG_PRICE']])\n",
    "res=mod.fit()\n",
    "print(res.summary())"
   ]
  },
  {
   "cell_type": "code",
   "execution_count": 49,
   "metadata": {},
   "outputs": [],
   "source": [
    "indepvar=sm.add_constant(df[['TRANS_FREQ','DOMAIN_NAME_CAT','DURATION','LOG_PRICE']])"
   ]
  },
  {
   "cell_type": "code",
   "execution_count": 50,
   "metadata": {},
   "outputs": [
    {
     "name": "stdout",
     "output_type": "stream",
     "text": [
      "                            OLS Regression Results                            \n",
      "==============================================================================\n",
      "Dep. Variable:           PAGES_VIEWED   R-squared:                       0.479\n",
      "Model:                            OLS   Adj. R-squared:                  0.479\n",
      "Method:                 Least Squares   F-statistic:                     861.4\n",
      "Date:                Thu, 09 Apr 2020   Prob (F-statistic):               0.00\n",
      "Time:                        22:51:33   Log-Likelihood:                -14637.\n",
      "No. Observations:                3749   AIC:                         2.928e+04\n",
      "Df Residuals:                    3744   BIC:                         2.931e+04\n",
      "Df Model:                           4                                         \n",
      "Covariance Type:            nonrobust                                         \n",
      "===================================================================================\n",
      "                      coef    std err          t      P>|t|      [0.025      0.975]\n",
      "-----------------------------------------------------------------------------------\n",
      "const               7.2280      0.761      9.498      0.000       5.736       8.720\n",
      "TRANS_FREQ          0.1335      0.048      2.804      0.005       0.040       0.227\n",
      "DOMAIN_NAME_CAT     0.1340      0.031      4.391      0.000       0.074       0.194\n",
      "DURATION            0.4938      0.009     57.155      0.000       0.477       0.511\n",
      "LOG_PRICE          -0.7746      0.122     -6.344      0.000      -1.014      -0.535\n",
      "==============================================================================\n",
      "Omnibus:                     1744.025   Durbin-Watson:                   1.902\n",
      "Prob(Omnibus):                  0.000   Jarque-Bera (JB):            24096.609\n",
      "Skew:                           1.851   Prob(JB):                         0.00\n",
      "Kurtosis:                      14.855   Cond. No.                         140.\n",
      "==============================================================================\n",
      "\n",
      "Warnings:\n",
      "[1] Standard Errors assume that the covariance matrix of the errors is correctly specified.\n"
     ]
    }
   ],
   "source": [
    "mod=sm.OLS(df.PAGES_VIEWED,indepvar)\n",
    "res=mod.fit()\n",
    "print(res.summary())"
   ]
  },
  {
   "cell_type": "markdown",
   "metadata": {},
   "source": [
    "### FINAL Model\n",
    "\n",
    "Fit data into the model and printing the result summary"
   ]
  },
  {
   "cell_type": "code",
   "execution_count": 51,
   "metadata": {},
   "outputs": [
    {
     "name": "stdout",
     "output_type": "stream",
     "text": [
      "                                 OLS Regression Results                                \n",
      "=======================================================================================\n",
      "Dep. Variable:           PAGES_VIEWED   R-squared (uncentered):                   0.749\n",
      "Model:                            OLS   Adj. R-squared (uncentered):              0.749\n",
      "Method:                 Least Squares   F-statistic:                              5595.\n",
      "Date:                Thu, 09 Apr 2020   Prob (F-statistic):                        0.00\n",
      "Time:                        22:51:34   Log-Likelihood:                         -14758.\n",
      "No. Observations:                3749   AIC:                                  2.952e+04\n",
      "Df Residuals:                    3747   BIC:                                  2.953e+04\n",
      "Df Model:                           2                                                  \n",
      "Covariance Type:            nonrobust                                                  \n",
      "==============================================================================\n",
      "                 coef    std err          t      P>|t|      [0.025      0.975]\n",
      "------------------------------------------------------------------------------\n",
      "DURATION       0.5483      0.008     67.502      0.000       0.532       0.564\n",
      "LOG_PRICE      0.7962      0.059     13.590      0.000       0.681       0.911\n",
      "==============================================================================\n",
      "Omnibus:                     1451.124   Durbin-Watson:                   1.827\n",
      "Prob(Omnibus):                  0.000   Jarque-Bera (JB):            19372.942\n",
      "Skew:                           1.465   Prob(JB):                         0.00\n",
      "Kurtosis:                      13.744   Cond. No.                         9.94\n",
      "==============================================================================\n",
      "\n",
      "Warnings:\n",
      "[1] Standard Errors assume that the covariance matrix of the errors is correctly specified.\n"
     ]
    }
   ],
   "source": [
    "mod=sm.OLS(df.PAGES_VIEWED,df[['DURATION','LOG_PRICE']])\n",
    "res=mod.fit()\n",
    "print(res.summary())"
   ]
  },
  {
   "cell_type": "code",
   "execution_count": 52,
   "metadata": {},
   "outputs": [],
   "source": [
    "indepvar=sm.add_constant(df[['DURATION','LOG_PRICE']])"
   ]
  },
  {
   "cell_type": "code",
   "execution_count": 53,
   "metadata": {},
   "outputs": [
    {
     "name": "stdout",
     "output_type": "stream",
     "text": [
      "                            OLS Regression Results                            \n",
      "==============================================================================\n",
      "Dep. Variable:           PAGES_VIEWED   R-squared:                       0.476\n",
      "Model:                            OLS   Adj. R-squared:                  0.475\n",
      "Method:                 Least Squares   F-statistic:                     1698.\n",
      "Date:                Thu, 09 Apr 2020   Prob (F-statistic):               0.00\n",
      "Time:                        22:51:34   Log-Likelihood:                -14650.\n",
      "No. Observations:                3749   AIC:                         2.931e+04\n",
      "Df Residuals:                    3746   BIC:                         2.932e+04\n",
      "Df Model:                           2                                         \n",
      "Covariance Type:            nonrobust                                         \n",
      "==============================================================================\n",
      "                 coef    std err          t      P>|t|      [0.025      0.975]\n",
      "------------------------------------------------------------------------------\n",
      "const          9.3961      0.631     14.887      0.000       8.159      10.634\n",
      "DURATION       0.4955      0.009     57.257      0.000       0.479       0.513\n",
      "LOG_PRICE     -0.8132      0.122     -6.656      0.000      -1.053      -0.574\n",
      "==============================================================================\n",
      "Omnibus:                     1762.912   Durbin-Watson:                   1.906\n",
      "Prob(Omnibus):                  0.000   Jarque-Bera (JB):            24560.588\n",
      "Skew:                           1.875   Prob(JB):                         0.00\n",
      "Kurtosis:                      14.965   Cond. No.                         111.\n",
      "==============================================================================\n",
      "\n",
      "Warnings:\n",
      "[1] Standard Errors assume that the covariance matrix of the errors is correctly specified.\n"
     ]
    }
   ],
   "source": [
    "mod=sm.OLS(df.PAGES_VIEWED,indepvar)\n",
    "res=mod.fit()\n",
    "print(res.summary())"
   ]
  },
  {
   "cell_type": "markdown",
   "metadata": {},
   "source": [
    "### Interpreting the Regression Results\n",
    "\n",
    "I highlighted several important components within the results:\n",
    "\n",
    "1. Adjusted. R-squared reflects the fit of the model. R-squared values range from 0 to 1, where a higher value generally indicates a better fit, assuming certain conditions are met. In this model, the Adj. R-squared value is 47.8%.\n",
    "<br>\n",
    "\n",
    "2. const coefficient is Y-intercept. It means that if both the DURATION  and LOG_PRICE coefficients are zero, then the expected output (i.e., the Y) would be equal to the const coefficient i.e.  9.3961 .\n",
    "<br>\n",
    "\n",
    "3. DURATION coefficient represents the change in the output Y due to a change of one unit in the DURATION (everything else held constant)\n",
    "<br>\n",
    "\n",
    "4. LOG_PRICE coefficient represents the change in the output Y due to a change of one unit in the LOG_PRICE (everything else held constant)\n",
    " <br>\n",
    "\n",
    "5. std err reflects the level of accuracy of the coefficients. The lower it is, the higher is the level of accuracy.\n",
    "<br>\n",
    "\n",
    "6. P >|t| is your p-value. A p-value of less than 0.05 is considered to be statistically significant\n",
    "<br>\n",
    "\n",
    "\n",
    "7. Confidence Interval represents the range in which our coefficients are likely to fall (with a likelihood of 95%)\n",
    "<br>"
   ]
  },
  {
   "cell_type": "markdown",
   "metadata": {},
   "source": [
    "# Question c) \n",
    "\n",
    "Please summarize your observations by comparing the results from a) and b)."
   ]
  },
  {
   "cell_type": "markdown",
   "metadata": {},
   "source": [
    " In these two models, we can see that DURATION and PAGE_VIWED are strongly correlated. It means that more pages viewed can increase the duration and vice versa. The websites could focus on either increasing the pages viewed or duration.\n",
    " <b>\n",
    "    \n",
    "To increase DURATION, main variables we should focus on improving are PAGES_VIEWED, PROD_QTY. Increasing product quantity will also increase the duration. \n",
    "\n",
    "<br> \n",
    "To increase PAGE_VIWED, main variables we should focus on improving are DURATION, LOG_PRICE. The LOG_PRICE has the negative coefficient; websites should work on cost efficiency and lower the price of the products. \n"
   ]
  }
 ],
 "metadata": {
  "kernelspec": {
   "display_name": "Python 3",
   "language": "python",
   "name": "python3"
  },
  "language_info": {
   "codemirror_mode": {
    "name": "ipython",
    "version": 3
   },
   "file_extension": ".py",
   "mimetype": "text/x-python",
   "name": "python",
   "nbconvert_exporter": "python",
   "pygments_lexer": "ipython3",
   "version": "3.7.3"
  }
 },
 "nbformat": 4,
 "nbformat_minor": 2
}
